{
  "nbformat": 4,
  "nbformat_minor": 0,
  "metadata": {
    "colab": {
      "provenance": [],
      "authorship_tag": "ABX9TyNaugyScdQPASeWglc1FmGK",
      "include_colab_link": true
    },
    "kernelspec": {
      "name": "python3",
      "display_name": "Python 3"
    },
    "language_info": {
      "name": "python"
    }
  },
  "cells": [
    {
      "cell_type": "markdown",
      "metadata": {
        "id": "view-in-github",
        "colab_type": "text"
      },
      "source": [
        "<a href=\"https://colab.research.google.com/github/VienneseWaltz/Movie_Recommendation_Analysis/blob/main/movie_recommendation.ipynb\" target=\"_parent\"><img src=\"https://colab.research.google.com/assets/colab-badge.svg\" alt=\"Open In Colab\"/></a>"
      ]
    },
    {
      "cell_type": "code",
      "execution_count": null,
      "metadata": {
        "id": "PRwlLgfrO1AJ"
      },
      "outputs": [],
      "source": [
        "# Load the packages\n",
        "import numpy as np\n",
        "import pandas as pd\n",
        "import seaborn as sns\n",
        "import matplotlib.pyplot as plt\n",
        "\n"
      ]
    },
    {
      "cell_type": "code",
      "source": [
        "!pip3 install scikit-surprise"
      ],
      "metadata": {
        "colab": {
          "base_uri": "https://localhost:8080/"
        },
        "id": "UHCZ3WUAP6gn",
        "outputId": "b7e3014e-a8c7-4198-9814-3d4a8874f329"
      },
      "execution_count": null,
      "outputs": [
        {
          "output_type": "stream",
          "name": "stdout",
          "text": [
            "Collecting scikit-surprise\n",
            "  Downloading scikit-surprise-1.1.3.tar.gz (771 kB)\n",
            "\u001b[?25l     \u001b[90m━━━━━━━━━━━━━━━━━━━━━━━━━━━━━━━━━━━━━━━━\u001b[0m \u001b[32m0.0/772.0 kB\u001b[0m \u001b[31m?\u001b[0m eta \u001b[36m-:--:--\u001b[0m\r\u001b[2K     \u001b[91m━━━━━━━━━━━━━━━━━━━━━━━━━━━━━━━━━━━━━\u001b[0m\u001b[91m╸\u001b[0m \u001b[32m768.0/772.0 kB\u001b[0m \u001b[31m23.3 MB/s\u001b[0m eta \u001b[36m0:00:01\u001b[0m\r\u001b[2K     \u001b[90m━━━━━━━━━━━━━━━━━━━━━━━━━━━━━━━━━━━━━━\u001b[0m \u001b[32m772.0/772.0 kB\u001b[0m \u001b[31m16.0 MB/s\u001b[0m eta \u001b[36m0:00:00\u001b[0m\n",
            "\u001b[?25h  Preparing metadata (setup.py) ... \u001b[?25l\u001b[?25hdone\n",
            "Requirement already satisfied: joblib>=1.0.0 in /usr/local/lib/python3.10/dist-packages (from scikit-surprise) (1.2.0)\n",
            "Requirement already satisfied: numpy>=1.17.3 in /usr/local/lib/python3.10/dist-packages (from scikit-surprise) (1.22.4)\n",
            "Requirement already satisfied: scipy>=1.3.2 in /usr/local/lib/python3.10/dist-packages (from scikit-surprise) (1.10.1)\n",
            "Building wheels for collected packages: scikit-surprise\n",
            "  Building wheel for scikit-surprise (setup.py) ... \u001b[?25l\u001b[?25hdone\n",
            "  Created wheel for scikit-surprise: filename=scikit_surprise-1.1.3-cp310-cp310-linux_x86_64.whl size=3096310 sha256=91190401be70bf999c691cbb5663e7259fb4cb2f34daecf9b5a4da1ee260f4dc\n",
            "  Stored in directory: /root/.cache/pip/wheels/a5/ca/a8/4e28def53797fdc4363ca4af740db15a9c2f1595ebc51fb445\n",
            "Successfully built scikit-surprise\n",
            "Installing collected packages: scikit-surprise\n",
            "Successfully installed scikit-surprise-1.1.3\n"
          ]
        }
      ]
    },
    {
      "cell_type": "code",
      "source": [
        "from surprise import Reader, Dataset\n",
        "from surprise.model_selection import cross_validate\n",
        "from surprise import NormalPredictor, KNNBasic, KNNWithMeans, KNNWithZScore, KNNBaseline\n",
        "from surprise import SVD, BaselineOnly, SVDpp, NMF, SlopeOne, CoClustering\n",
        "from surprise.accuracy import rmse\n",
        "from surprise import accuracy\n",
        "from surprise.model_selection import train_test_split\n",
        "from surprise.model_selection import GridSearchCV"
      ],
      "metadata": {
        "id": "iwdrjJJ0QAZq"
      },
      "execution_count": null,
      "outputs": []
    },
    {
      "cell_type": "code",
      "source": [
        "from plotly.offline import init_notebook_mode, plot\n",
        "import plotly.graph_objs as go"
      ],
      "metadata": {
        "id": "Wcf8pVmnQVqW"
      },
      "execution_count": null,
      "outputs": []
    },
    {
      "cell_type": "code",
      "source": [
        "# Reading in the data\n",
        "ratings_df = pd.read_csv('ratings.csv')"
      ],
      "metadata": {
        "id": "LOcIo23-QaYU"
      },
      "execution_count": null,
      "outputs": []
    },
    {
      "cell_type": "code",
      "source": [
        "# Display the first 5 rows\n",
        "ratings_df.head()"
      ],
      "metadata": {
        "colab": {
          "base_uri": "https://localhost:8080/",
          "height": 206
        },
        "id": "oFooqjD3QgDT",
        "outputId": "ee884986-f8fa-46d2-d3ff-894d1a1beb48"
      },
      "execution_count": null,
      "outputs": [
        {
          "output_type": "execute_result",
          "data": {
            "text/plain": [
              "   userId  movieId  rating  timestamp\n",
              "0       1        1     4.0  964982703\n",
              "1       1        3     4.0  964981247\n",
              "2       1        6     4.0  964982224\n",
              "3       1       47     5.0  964983815\n",
              "4       1       50     5.0  964982931"
            ],
            "text/html": [
              "\n",
              "  <div id=\"df-5f7d779e-eabc-4dfc-a864-79544d146e8d\">\n",
              "    <div class=\"colab-df-container\">\n",
              "      <div>\n",
              "<style scoped>\n",
              "    .dataframe tbody tr th:only-of-type {\n",
              "        vertical-align: middle;\n",
              "    }\n",
              "\n",
              "    .dataframe tbody tr th {\n",
              "        vertical-align: top;\n",
              "    }\n",
              "\n",
              "    .dataframe thead th {\n",
              "        text-align: right;\n",
              "    }\n",
              "</style>\n",
              "<table border=\"1\" class=\"dataframe\">\n",
              "  <thead>\n",
              "    <tr style=\"text-align: right;\">\n",
              "      <th></th>\n",
              "      <th>userId</th>\n",
              "      <th>movieId</th>\n",
              "      <th>rating</th>\n",
              "      <th>timestamp</th>\n",
              "    </tr>\n",
              "  </thead>\n",
              "  <tbody>\n",
              "    <tr>\n",
              "      <th>0</th>\n",
              "      <td>1</td>\n",
              "      <td>1</td>\n",
              "      <td>4.0</td>\n",
              "      <td>964982703</td>\n",
              "    </tr>\n",
              "    <tr>\n",
              "      <th>1</th>\n",
              "      <td>1</td>\n",
              "      <td>3</td>\n",
              "      <td>4.0</td>\n",
              "      <td>964981247</td>\n",
              "    </tr>\n",
              "    <tr>\n",
              "      <th>2</th>\n",
              "      <td>1</td>\n",
              "      <td>6</td>\n",
              "      <td>4.0</td>\n",
              "      <td>964982224</td>\n",
              "    </tr>\n",
              "    <tr>\n",
              "      <th>3</th>\n",
              "      <td>1</td>\n",
              "      <td>47</td>\n",
              "      <td>5.0</td>\n",
              "      <td>964983815</td>\n",
              "    </tr>\n",
              "    <tr>\n",
              "      <th>4</th>\n",
              "      <td>1</td>\n",
              "      <td>50</td>\n",
              "      <td>5.0</td>\n",
              "      <td>964982931</td>\n",
              "    </tr>\n",
              "  </tbody>\n",
              "</table>\n",
              "</div>\n",
              "      <button class=\"colab-df-convert\" onclick=\"convertToInteractive('df-5f7d779e-eabc-4dfc-a864-79544d146e8d')\"\n",
              "              title=\"Convert this dataframe to an interactive table.\"\n",
              "              style=\"display:none;\">\n",
              "        \n",
              "  <svg xmlns=\"http://www.w3.org/2000/svg\" height=\"24px\"viewBox=\"0 0 24 24\"\n",
              "       width=\"24px\">\n",
              "    <path d=\"M0 0h24v24H0V0z\" fill=\"none\"/>\n",
              "    <path d=\"M18.56 5.44l.94 2.06.94-2.06 2.06-.94-2.06-.94-.94-2.06-.94 2.06-2.06.94zm-11 1L8.5 8.5l.94-2.06 2.06-.94-2.06-.94L8.5 2.5l-.94 2.06-2.06.94zm10 10l.94 2.06.94-2.06 2.06-.94-2.06-.94-.94-2.06-.94 2.06-2.06.94z\"/><path d=\"M17.41 7.96l-1.37-1.37c-.4-.4-.92-.59-1.43-.59-.52 0-1.04.2-1.43.59L10.3 9.45l-7.72 7.72c-.78.78-.78 2.05 0 2.83L4 21.41c.39.39.9.59 1.41.59.51 0 1.02-.2 1.41-.59l7.78-7.78 2.81-2.81c.8-.78.8-2.07 0-2.86zM5.41 20L4 18.59l7.72-7.72 1.47 1.35L5.41 20z\"/>\n",
              "  </svg>\n",
              "      </button>\n",
              "      \n",
              "  <style>\n",
              "    .colab-df-container {\n",
              "      display:flex;\n",
              "      flex-wrap:wrap;\n",
              "      gap: 12px;\n",
              "    }\n",
              "\n",
              "    .colab-df-convert {\n",
              "      background-color: #E8F0FE;\n",
              "      border: none;\n",
              "      border-radius: 50%;\n",
              "      cursor: pointer;\n",
              "      display: none;\n",
              "      fill: #1967D2;\n",
              "      height: 32px;\n",
              "      padding: 0 0 0 0;\n",
              "      width: 32px;\n",
              "    }\n",
              "\n",
              "    .colab-df-convert:hover {\n",
              "      background-color: #E2EBFA;\n",
              "      box-shadow: 0px 1px 2px rgba(60, 64, 67, 0.3), 0px 1px 3px 1px rgba(60, 64, 67, 0.15);\n",
              "      fill: #174EA6;\n",
              "    }\n",
              "\n",
              "    [theme=dark] .colab-df-convert {\n",
              "      background-color: #3B4455;\n",
              "      fill: #D2E3FC;\n",
              "    }\n",
              "\n",
              "    [theme=dark] .colab-df-convert:hover {\n",
              "      background-color: #434B5C;\n",
              "      box-shadow: 0px 1px 3px 1px rgba(0, 0, 0, 0.15);\n",
              "      filter: drop-shadow(0px 1px 2px rgba(0, 0, 0, 0.3));\n",
              "      fill: #FFFFFF;\n",
              "    }\n",
              "  </style>\n",
              "\n",
              "      <script>\n",
              "        const buttonEl =\n",
              "          document.querySelector('#df-5f7d779e-eabc-4dfc-a864-79544d146e8d button.colab-df-convert');\n",
              "        buttonEl.style.display =\n",
              "          google.colab.kernel.accessAllowed ? 'block' : 'none';\n",
              "\n",
              "        async function convertToInteractive(key) {\n",
              "          const element = document.querySelector('#df-5f7d779e-eabc-4dfc-a864-79544d146e8d');\n",
              "          const dataTable =\n",
              "            await google.colab.kernel.invokeFunction('convertToInteractive',\n",
              "                                                     [key], {});\n",
              "          if (!dataTable) return;\n",
              "\n",
              "          const docLinkHtml = 'Like what you see? Visit the ' +\n",
              "            '<a target=\"_blank\" href=https://colab.research.google.com/notebooks/data_table.ipynb>data table notebook</a>'\n",
              "            + ' to learn more about interactive tables.';\n",
              "          element.innerHTML = '';\n",
              "          dataTable['output_type'] = 'display_data';\n",
              "          await google.colab.output.renderOutput(dataTable, element);\n",
              "          const docLink = document.createElement('div');\n",
              "          docLink.innerHTML = docLinkHtml;\n",
              "          element.appendChild(docLink);\n",
              "        }\n",
              "      </script>\n",
              "    </div>\n",
              "  </div>\n",
              "  "
            ]
          },
          "metadata": {},
          "execution_count": 6
        }
      ]
    },
    {
      "cell_type": "code",
      "source": [
        "# Display the last 5 rows\n",
        "ratings_df.tail()"
      ],
      "metadata": {
        "colab": {
          "base_uri": "https://localhost:8080/",
          "height": 206
        },
        "id": "ANzoQCyWQjkQ",
        "outputId": "5d26a7db-0e3d-495a-fe7d-db5256712657"
      },
      "execution_count": null,
      "outputs": [
        {
          "output_type": "execute_result",
          "data": {
            "text/plain": [
              "        userId  movieId  rating   timestamp\n",
              "100831     610   166534     4.0  1493848402\n",
              "100832     610   168248     5.0  1493850091\n",
              "100833     610   168250     5.0  1494273047\n",
              "100834     610   168252     5.0  1493846352\n",
              "100835     610   170875     3.0  1493846415"
            ],
            "text/html": [
              "\n",
              "  <div id=\"df-8002c4e1-7bdf-4cd8-8b2b-d8bdb7d67736\">\n",
              "    <div class=\"colab-df-container\">\n",
              "      <div>\n",
              "<style scoped>\n",
              "    .dataframe tbody tr th:only-of-type {\n",
              "        vertical-align: middle;\n",
              "    }\n",
              "\n",
              "    .dataframe tbody tr th {\n",
              "        vertical-align: top;\n",
              "    }\n",
              "\n",
              "    .dataframe thead th {\n",
              "        text-align: right;\n",
              "    }\n",
              "</style>\n",
              "<table border=\"1\" class=\"dataframe\">\n",
              "  <thead>\n",
              "    <tr style=\"text-align: right;\">\n",
              "      <th></th>\n",
              "      <th>userId</th>\n",
              "      <th>movieId</th>\n",
              "      <th>rating</th>\n",
              "      <th>timestamp</th>\n",
              "    </tr>\n",
              "  </thead>\n",
              "  <tbody>\n",
              "    <tr>\n",
              "      <th>100831</th>\n",
              "      <td>610</td>\n",
              "      <td>166534</td>\n",
              "      <td>4.0</td>\n",
              "      <td>1493848402</td>\n",
              "    </tr>\n",
              "    <tr>\n",
              "      <th>100832</th>\n",
              "      <td>610</td>\n",
              "      <td>168248</td>\n",
              "      <td>5.0</td>\n",
              "      <td>1493850091</td>\n",
              "    </tr>\n",
              "    <tr>\n",
              "      <th>100833</th>\n",
              "      <td>610</td>\n",
              "      <td>168250</td>\n",
              "      <td>5.0</td>\n",
              "      <td>1494273047</td>\n",
              "    </tr>\n",
              "    <tr>\n",
              "      <th>100834</th>\n",
              "      <td>610</td>\n",
              "      <td>168252</td>\n",
              "      <td>5.0</td>\n",
              "      <td>1493846352</td>\n",
              "    </tr>\n",
              "    <tr>\n",
              "      <th>100835</th>\n",
              "      <td>610</td>\n",
              "      <td>170875</td>\n",
              "      <td>3.0</td>\n",
              "      <td>1493846415</td>\n",
              "    </tr>\n",
              "  </tbody>\n",
              "</table>\n",
              "</div>\n",
              "      <button class=\"colab-df-convert\" onclick=\"convertToInteractive('df-8002c4e1-7bdf-4cd8-8b2b-d8bdb7d67736')\"\n",
              "              title=\"Convert this dataframe to an interactive table.\"\n",
              "              style=\"display:none;\">\n",
              "        \n",
              "  <svg xmlns=\"http://www.w3.org/2000/svg\" height=\"24px\"viewBox=\"0 0 24 24\"\n",
              "       width=\"24px\">\n",
              "    <path d=\"M0 0h24v24H0V0z\" fill=\"none\"/>\n",
              "    <path d=\"M18.56 5.44l.94 2.06.94-2.06 2.06-.94-2.06-.94-.94-2.06-.94 2.06-2.06.94zm-11 1L8.5 8.5l.94-2.06 2.06-.94-2.06-.94L8.5 2.5l-.94 2.06-2.06.94zm10 10l.94 2.06.94-2.06 2.06-.94-2.06-.94-.94-2.06-.94 2.06-2.06.94z\"/><path d=\"M17.41 7.96l-1.37-1.37c-.4-.4-.92-.59-1.43-.59-.52 0-1.04.2-1.43.59L10.3 9.45l-7.72 7.72c-.78.78-.78 2.05 0 2.83L4 21.41c.39.39.9.59 1.41.59.51 0 1.02-.2 1.41-.59l7.78-7.78 2.81-2.81c.8-.78.8-2.07 0-2.86zM5.41 20L4 18.59l7.72-7.72 1.47 1.35L5.41 20z\"/>\n",
              "  </svg>\n",
              "      </button>\n",
              "      \n",
              "  <style>\n",
              "    .colab-df-container {\n",
              "      display:flex;\n",
              "      flex-wrap:wrap;\n",
              "      gap: 12px;\n",
              "    }\n",
              "\n",
              "    .colab-df-convert {\n",
              "      background-color: #E8F0FE;\n",
              "      border: none;\n",
              "      border-radius: 50%;\n",
              "      cursor: pointer;\n",
              "      display: none;\n",
              "      fill: #1967D2;\n",
              "      height: 32px;\n",
              "      padding: 0 0 0 0;\n",
              "      width: 32px;\n",
              "    }\n",
              "\n",
              "    .colab-df-convert:hover {\n",
              "      background-color: #E2EBFA;\n",
              "      box-shadow: 0px 1px 2px rgba(60, 64, 67, 0.3), 0px 1px 3px 1px rgba(60, 64, 67, 0.15);\n",
              "      fill: #174EA6;\n",
              "    }\n",
              "\n",
              "    [theme=dark] .colab-df-convert {\n",
              "      background-color: #3B4455;\n",
              "      fill: #D2E3FC;\n",
              "    }\n",
              "\n",
              "    [theme=dark] .colab-df-convert:hover {\n",
              "      background-color: #434B5C;\n",
              "      box-shadow: 0px 1px 3px 1px rgba(0, 0, 0, 0.15);\n",
              "      filter: drop-shadow(0px 1px 2px rgba(0, 0, 0, 0.3));\n",
              "      fill: #FFFFFF;\n",
              "    }\n",
              "  </style>\n",
              "\n",
              "      <script>\n",
              "        const buttonEl =\n",
              "          document.querySelector('#df-8002c4e1-7bdf-4cd8-8b2b-d8bdb7d67736 button.colab-df-convert');\n",
              "        buttonEl.style.display =\n",
              "          google.colab.kernel.accessAllowed ? 'block' : 'none';\n",
              "\n",
              "        async function convertToInteractive(key) {\n",
              "          const element = document.querySelector('#df-8002c4e1-7bdf-4cd8-8b2b-d8bdb7d67736');\n",
              "          const dataTable =\n",
              "            await google.colab.kernel.invokeFunction('convertToInteractive',\n",
              "                                                     [key], {});\n",
              "          if (!dataTable) return;\n",
              "\n",
              "          const docLinkHtml = 'Like what you see? Visit the ' +\n",
              "            '<a target=\"_blank\" href=https://colab.research.google.com/notebooks/data_table.ipynb>data table notebook</a>'\n",
              "            + ' to learn more about interactive tables.';\n",
              "          element.innerHTML = '';\n",
              "          dataTable['output_type'] = 'display_data';\n",
              "          await google.colab.output.renderOutput(dataTable, element);\n",
              "          const docLink = document.createElement('div');\n",
              "          docLink.innerHTML = docLinkHtml;\n",
              "          element.appendChild(docLink);\n",
              "        }\n",
              "      </script>\n",
              "    </div>\n",
              "  </div>\n",
              "  "
            ]
          },
          "metadata": {},
          "execution_count": 7
        }
      ]
    },
    {
      "cell_type": "code",
      "source": [
        "# Examine how many rows and columns this DataFrame is\n",
        "ratings_df.shape"
      ],
      "metadata": {
        "colab": {
          "base_uri": "https://localhost:8080/"
        },
        "id": "GiBjgBbDQqet",
        "outputId": "e22a6e23-d46d-48f6-d09d-23157ca7da0a"
      },
      "execution_count": null,
      "outputs": [
        {
          "output_type": "execute_result",
          "data": {
            "text/plain": [
              "(100836, 4)"
            ]
          },
          "metadata": {},
          "execution_count": 8
        }
      ]
    },
    {
      "cell_type": "code",
      "source": [
        "# This is a 100836 rows x 4 columns DataFrame. Display the 4 columns\n",
        "ratings_df_cols = ratings_df.columns.tolist()\n",
        "ratings_df_cols"
      ],
      "metadata": {
        "colab": {
          "base_uri": "https://localhost:8080/"
        },
        "id": "wbi8L99mQ0mx",
        "outputId": "ce986fb8-2881-41e2-87c6-d24144600045"
      },
      "execution_count": null,
      "outputs": [
        {
          "output_type": "execute_result",
          "data": {
            "text/plain": [
              "['userId', 'movieId', 'rating', 'timestamp']"
            ]
          },
          "metadata": {},
          "execution_count": 9
        }
      ]
    },
    {
      "cell_type": "code",
      "source": [
        "# Drop the colummn 'timestamp'\n",
        "ratings_df.drop(columns = ['timestamp'], axis=1, inplace=True)\n",
        "ratings_df_cols = ratings_df.columns.tolist()\n",
        "ratings_df_cols"
      ],
      "metadata": {
        "colab": {
          "base_uri": "https://localhost:8080/"
        },
        "id": "WO5xrFLTRApm",
        "outputId": "84cd5969-eafc-4957-9c8a-75a301e06881"
      },
      "execution_count": null,
      "outputs": [
        {
          "output_type": "execute_result",
          "data": {
            "text/plain": [
              "['userId', 'movieId', 'rating']"
            ]
          },
          "metadata": {},
          "execution_count": 10
        }
      ]
    },
    {
      "cell_type": "code",
      "source": [
        "# Check for missing values.\n",
        "ratings_df.isna().sum()"
      ],
      "metadata": {
        "colab": {
          "base_uri": "https://localhost:8080/"
        },
        "id": "gmmGpBWtRP62",
        "outputId": "c1a398ac-081a-4e11-dc37-81017a1e5a37"
      },
      "execution_count": null,
      "outputs": [
        {
          "output_type": "execute_result",
          "data": {
            "text/plain": [
              "userId     0\n",
              "movieId    0\n",
              "rating     0\n",
              "dtype: int64"
            ]
          },
          "metadata": {},
          "execution_count": 11
        }
      ]
    },
    {
      "cell_type": "code",
      "source": [
        "# Yay! No missing values. Display the data types of the 3 different columns 'userID', 'movieId' and 'rating'.\n",
        "ratings_df.info()"
      ],
      "metadata": {
        "colab": {
          "base_uri": "https://localhost:8080/"
        },
        "id": "b5qh852qRYXc",
        "outputId": "920f9bf5-5f8c-409b-e1b5-15e15e57c21c"
      },
      "execution_count": null,
      "outputs": [
        {
          "output_type": "stream",
          "name": "stdout",
          "text": [
            "<class 'pandas.core.frame.DataFrame'>\n",
            "RangeIndex: 100836 entries, 0 to 100835\n",
            "Data columns (total 3 columns):\n",
            " #   Column   Non-Null Count   Dtype  \n",
            "---  ------   --------------   -----  \n",
            " 0   userId   100836 non-null  int64  \n",
            " 1   movieId  100836 non-null  int64  \n",
            " 2   rating   100836 non-null  float64\n",
            "dtypes: float64(1), int64(2)\n",
            "memory usage: 2.3 MB\n"
          ]
        }
      ]
    },
    {
      "cell_type": "code",
      "source": [
        "# Print the shape and the ratings_df in steps of 20000\n",
        "print('Dataset shape: {}'.format(ratings_df.shape))\n",
        "print('******** Dataset examples ********')\n",
        "print(ratings_df.iloc[::20000, :])"
      ],
      "metadata": {
        "colab": {
          "base_uri": "https://localhost:8080/"
        },
        "id": "LVMVsoo0RnIW",
        "outputId": "f8ed7b1a-9f1a-4290-b698-7c12d1d7aced"
      },
      "execution_count": null,
      "outputs": [
        {
          "output_type": "stream",
          "name": "stdout",
          "text": [
            "Dataset shape: (100836, 3)\n",
            "******** Dataset examples ********\n",
            "        userId  movieId  rating\n",
            "0            1        1     4.0\n",
            "20000      132     1079     3.5\n",
            "40000      274     5621     2.0\n",
            "60000      387     6748     3.0\n",
            "80000      501       11     3.0\n",
            "100000     610     6978     4.0\n"
          ]
        }
      ]
    },
    {
      "cell_type": "markdown",
      "source": [
        "**Exploratory Data Analysis (EDA)**"
      ],
      "metadata": {
        "id": "AaNLyX7RRvFU"
      }
    },
    {
      "cell_type": "code",
      "source": [
        "# Ratings Distribution\n",
        "# Display the number of different values of ratings using value_counts().\n",
        "# Sort the ratings values - 5.0 to 0.5 - in descending order.\n",
        "# Refer to https://community.plotly.com/t/plotly-colours-list/11730/2 for plotly colours list\n",
        "data = ratings_df['rating'].value_counts().sort_index(ascending=False)\n",
        "\n",
        "trace = go.Bar(x = data.index,\n",
        "               text = ['{:.1f} %'.format(val) for val in (data.values/ratings_df.shape[0] * 100)],\n",
        "               textposition = 'auto',\n",
        "               textfont = dict(color = 'aliceblue', size=14, family='Times New Roman'),\n",
        "               y = data.values)\n",
        "\n",
        "# Create layout\n",
        "layout = dict(autosize = False,\n",
        "              width = 900,\n",
        "              height = 900,\n",
        "              title = 'Distribution of {} ratings'.format(ratings_df.shape[0]),\n",
        "              xaxis = dict(title = 'Rating'),\n",
        "              yaxis = dict(title = 'Count'))\n",
        "\n",
        "# Create plot\n",
        "fig = go.Figure(data=[trace], layout=layout)\n",
        "fig.show()\n",
        "\n"
      ],
      "metadata": {
        "colab": {
          "base_uri": "https://localhost:8080/",
          "height": 917
        },
        "id": "jFMGUZPDR1pt",
        "outputId": "e6acf426-34f6-4c7c-af57-ba86af36ed6c"
      },
      "execution_count": null,
      "outputs": [
        {
          "output_type": "display_data",
          "data": {
            "text/html": [
              "<html>\n",
              "<head><meta charset=\"utf-8\" /></head>\n",
              "<body>\n",
              "    <div>            <script src=\"https://cdnjs.cloudflare.com/ajax/libs/mathjax/2.7.5/MathJax.js?config=TeX-AMS-MML_SVG\"></script><script type=\"text/javascript\">if (window.MathJax && window.MathJax.Hub && window.MathJax.Hub.Config) {window.MathJax.Hub.Config({SVG: {font: \"STIX-Web\"}});}</script>                <script type=\"text/javascript\">window.PlotlyConfig = {MathJaxConfig: 'local'};</script>\n",
              "        <script src=\"https://cdn.plot.ly/plotly-2.18.2.min.js\"></script>                <div id=\"9c284f6a-4727-41fd-9146-f5932ed69de0\" class=\"plotly-graph-div\" style=\"height:900px; width:900px;\"></div>            <script type=\"text/javascript\">                                    window.PLOTLYENV=window.PLOTLYENV || {};                                    if (document.getElementById(\"9c284f6a-4727-41fd-9146-f5932ed69de0\")) {                    Plotly.newPlot(                        \"9c284f6a-4727-41fd-9146-f5932ed69de0\",                        [{\"text\":[\"13.1 %\",\"8.5 %\",\"26.6 %\",\"13.0 %\",\"19.9 %\",\"5.5 %\",\"7.5 %\",\"1.8 %\",\"2.8 %\",\"1.4 %\"],\"textfont\":{\"color\":\"aliceblue\",\"family\":\"Times New Roman\",\"size\":14},\"textposition\":\"auto\",\"x\":[5.0,4.5,4.0,3.5,3.0,2.5,2.0,1.5,1.0,0.5],\"y\":[13211,8551,26818,13136,20047,5550,7551,1791,2811,1370],\"type\":\"bar\"}],                        {\"autosize\":false,\"height\":900,\"title\":{\"text\":\"Distribution of 100836 ratings\"},\"width\":900,\"xaxis\":{\"title\":{\"text\":\"Rating\"}},\"yaxis\":{\"title\":{\"text\":\"Count\"}},\"template\":{\"data\":{\"histogram2dcontour\":[{\"type\":\"histogram2dcontour\",\"colorbar\":{\"outlinewidth\":0,\"ticks\":\"\"},\"colorscale\":[[0.0,\"#0d0887\"],[0.1111111111111111,\"#46039f\"],[0.2222222222222222,\"#7201a8\"],[0.3333333333333333,\"#9c179e\"],[0.4444444444444444,\"#bd3786\"],[0.5555555555555556,\"#d8576b\"],[0.6666666666666666,\"#ed7953\"],[0.7777777777777778,\"#fb9f3a\"],[0.8888888888888888,\"#fdca26\"],[1.0,\"#f0f921\"]]}],\"choropleth\":[{\"type\":\"choropleth\",\"colorbar\":{\"outlinewidth\":0,\"ticks\":\"\"}}],\"histogram2d\":[{\"type\":\"histogram2d\",\"colorbar\":{\"outlinewidth\":0,\"ticks\":\"\"},\"colorscale\":[[0.0,\"#0d0887\"],[0.1111111111111111,\"#46039f\"],[0.2222222222222222,\"#7201a8\"],[0.3333333333333333,\"#9c179e\"],[0.4444444444444444,\"#bd3786\"],[0.5555555555555556,\"#d8576b\"],[0.6666666666666666,\"#ed7953\"],[0.7777777777777778,\"#fb9f3a\"],[0.8888888888888888,\"#fdca26\"],[1.0,\"#f0f921\"]]}],\"heatmap\":[{\"type\":\"heatmap\",\"colorbar\":{\"outlinewidth\":0,\"ticks\":\"\"},\"colorscale\":[[0.0,\"#0d0887\"],[0.1111111111111111,\"#46039f\"],[0.2222222222222222,\"#7201a8\"],[0.3333333333333333,\"#9c179e\"],[0.4444444444444444,\"#bd3786\"],[0.5555555555555556,\"#d8576b\"],[0.6666666666666666,\"#ed7953\"],[0.7777777777777778,\"#fb9f3a\"],[0.8888888888888888,\"#fdca26\"],[1.0,\"#f0f921\"]]}],\"heatmapgl\":[{\"type\":\"heatmapgl\",\"colorbar\":{\"outlinewidth\":0,\"ticks\":\"\"},\"colorscale\":[[0.0,\"#0d0887\"],[0.1111111111111111,\"#46039f\"],[0.2222222222222222,\"#7201a8\"],[0.3333333333333333,\"#9c179e\"],[0.4444444444444444,\"#bd3786\"],[0.5555555555555556,\"#d8576b\"],[0.6666666666666666,\"#ed7953\"],[0.7777777777777778,\"#fb9f3a\"],[0.8888888888888888,\"#fdca26\"],[1.0,\"#f0f921\"]]}],\"contourcarpet\":[{\"type\":\"contourcarpet\",\"colorbar\":{\"outlinewidth\":0,\"ticks\":\"\"}}],\"contour\":[{\"type\":\"contour\",\"colorbar\":{\"outlinewidth\":0,\"ticks\":\"\"},\"colorscale\":[[0.0,\"#0d0887\"],[0.1111111111111111,\"#46039f\"],[0.2222222222222222,\"#7201a8\"],[0.3333333333333333,\"#9c179e\"],[0.4444444444444444,\"#bd3786\"],[0.5555555555555556,\"#d8576b\"],[0.6666666666666666,\"#ed7953\"],[0.7777777777777778,\"#fb9f3a\"],[0.8888888888888888,\"#fdca26\"],[1.0,\"#f0f921\"]]}],\"surface\":[{\"type\":\"surface\",\"colorbar\":{\"outlinewidth\":0,\"ticks\":\"\"},\"colorscale\":[[0.0,\"#0d0887\"],[0.1111111111111111,\"#46039f\"],[0.2222222222222222,\"#7201a8\"],[0.3333333333333333,\"#9c179e\"],[0.4444444444444444,\"#bd3786\"],[0.5555555555555556,\"#d8576b\"],[0.6666666666666666,\"#ed7953\"],[0.7777777777777778,\"#fb9f3a\"],[0.8888888888888888,\"#fdca26\"],[1.0,\"#f0f921\"]]}],\"mesh3d\":[{\"type\":\"mesh3d\",\"colorbar\":{\"outlinewidth\":0,\"ticks\":\"\"}}],\"scatter\":[{\"fillpattern\":{\"fillmode\":\"overlay\",\"size\":10,\"solidity\":0.2},\"type\":\"scatter\"}],\"parcoords\":[{\"type\":\"parcoords\",\"line\":{\"colorbar\":{\"outlinewidth\":0,\"ticks\":\"\"}}}],\"scatterpolargl\":[{\"type\":\"scatterpolargl\",\"marker\":{\"colorbar\":{\"outlinewidth\":0,\"ticks\":\"\"}}}],\"bar\":[{\"error_x\":{\"color\":\"#2a3f5f\"},\"error_y\":{\"color\":\"#2a3f5f\"},\"marker\":{\"line\":{\"color\":\"#E5ECF6\",\"width\":0.5},\"pattern\":{\"fillmode\":\"overlay\",\"size\":10,\"solidity\":0.2}},\"type\":\"bar\"}],\"scattergeo\":[{\"type\":\"scattergeo\",\"marker\":{\"colorbar\":{\"outlinewidth\":0,\"ticks\":\"\"}}}],\"scatterpolar\":[{\"type\":\"scatterpolar\",\"marker\":{\"colorbar\":{\"outlinewidth\":0,\"ticks\":\"\"}}}],\"histogram\":[{\"marker\":{\"pattern\":{\"fillmode\":\"overlay\",\"size\":10,\"solidity\":0.2}},\"type\":\"histogram\"}],\"scattergl\":[{\"type\":\"scattergl\",\"marker\":{\"colorbar\":{\"outlinewidth\":0,\"ticks\":\"\"}}}],\"scatter3d\":[{\"type\":\"scatter3d\",\"line\":{\"colorbar\":{\"outlinewidth\":0,\"ticks\":\"\"}},\"marker\":{\"colorbar\":{\"outlinewidth\":0,\"ticks\":\"\"}}}],\"scattermapbox\":[{\"type\":\"scattermapbox\",\"marker\":{\"colorbar\":{\"outlinewidth\":0,\"ticks\":\"\"}}}],\"scatterternary\":[{\"type\":\"scatterternary\",\"marker\":{\"colorbar\":{\"outlinewidth\":0,\"ticks\":\"\"}}}],\"scattercarpet\":[{\"type\":\"scattercarpet\",\"marker\":{\"colorbar\":{\"outlinewidth\":0,\"ticks\":\"\"}}}],\"carpet\":[{\"aaxis\":{\"endlinecolor\":\"#2a3f5f\",\"gridcolor\":\"white\",\"linecolor\":\"white\",\"minorgridcolor\":\"white\",\"startlinecolor\":\"#2a3f5f\"},\"baxis\":{\"endlinecolor\":\"#2a3f5f\",\"gridcolor\":\"white\",\"linecolor\":\"white\",\"minorgridcolor\":\"white\",\"startlinecolor\":\"#2a3f5f\"},\"type\":\"carpet\"}],\"table\":[{\"cells\":{\"fill\":{\"color\":\"#EBF0F8\"},\"line\":{\"color\":\"white\"}},\"header\":{\"fill\":{\"color\":\"#C8D4E3\"},\"line\":{\"color\":\"white\"}},\"type\":\"table\"}],\"barpolar\":[{\"marker\":{\"line\":{\"color\":\"#E5ECF6\",\"width\":0.5},\"pattern\":{\"fillmode\":\"overlay\",\"size\":10,\"solidity\":0.2}},\"type\":\"barpolar\"}],\"pie\":[{\"automargin\":true,\"type\":\"pie\"}]},\"layout\":{\"autotypenumbers\":\"strict\",\"colorway\":[\"#636efa\",\"#EF553B\",\"#00cc96\",\"#ab63fa\",\"#FFA15A\",\"#19d3f3\",\"#FF6692\",\"#B6E880\",\"#FF97FF\",\"#FECB52\"],\"font\":{\"color\":\"#2a3f5f\"},\"hovermode\":\"closest\",\"hoverlabel\":{\"align\":\"left\"},\"paper_bgcolor\":\"white\",\"plot_bgcolor\":\"#E5ECF6\",\"polar\":{\"bgcolor\":\"#E5ECF6\",\"angularaxis\":{\"gridcolor\":\"white\",\"linecolor\":\"white\",\"ticks\":\"\"},\"radialaxis\":{\"gridcolor\":\"white\",\"linecolor\":\"white\",\"ticks\":\"\"}},\"ternary\":{\"bgcolor\":\"#E5ECF6\",\"aaxis\":{\"gridcolor\":\"white\",\"linecolor\":\"white\",\"ticks\":\"\"},\"baxis\":{\"gridcolor\":\"white\",\"linecolor\":\"white\",\"ticks\":\"\"},\"caxis\":{\"gridcolor\":\"white\",\"linecolor\":\"white\",\"ticks\":\"\"}},\"coloraxis\":{\"colorbar\":{\"outlinewidth\":0,\"ticks\":\"\"}},\"colorscale\":{\"sequential\":[[0.0,\"#0d0887\"],[0.1111111111111111,\"#46039f\"],[0.2222222222222222,\"#7201a8\"],[0.3333333333333333,\"#9c179e\"],[0.4444444444444444,\"#bd3786\"],[0.5555555555555556,\"#d8576b\"],[0.6666666666666666,\"#ed7953\"],[0.7777777777777778,\"#fb9f3a\"],[0.8888888888888888,\"#fdca26\"],[1.0,\"#f0f921\"]],\"sequentialminus\":[[0.0,\"#0d0887\"],[0.1111111111111111,\"#46039f\"],[0.2222222222222222,\"#7201a8\"],[0.3333333333333333,\"#9c179e\"],[0.4444444444444444,\"#bd3786\"],[0.5555555555555556,\"#d8576b\"],[0.6666666666666666,\"#ed7953\"],[0.7777777777777778,\"#fb9f3a\"],[0.8888888888888888,\"#fdca26\"],[1.0,\"#f0f921\"]],\"diverging\":[[0,\"#8e0152\"],[0.1,\"#c51b7d\"],[0.2,\"#de77ae\"],[0.3,\"#f1b6da\"],[0.4,\"#fde0ef\"],[0.5,\"#f7f7f7\"],[0.6,\"#e6f5d0\"],[0.7,\"#b8e186\"],[0.8,\"#7fbc41\"],[0.9,\"#4d9221\"],[1,\"#276419\"]]},\"xaxis\":{\"gridcolor\":\"white\",\"linecolor\":\"white\",\"ticks\":\"\",\"title\":{\"standoff\":15},\"zerolinecolor\":\"white\",\"automargin\":true,\"zerolinewidth\":2},\"yaxis\":{\"gridcolor\":\"white\",\"linecolor\":\"white\",\"ticks\":\"\",\"title\":{\"standoff\":15},\"zerolinecolor\":\"white\",\"automargin\":true,\"zerolinewidth\":2},\"scene\":{\"xaxis\":{\"backgroundcolor\":\"#E5ECF6\",\"gridcolor\":\"white\",\"linecolor\":\"white\",\"showbackground\":true,\"ticks\":\"\",\"zerolinecolor\":\"white\",\"gridwidth\":2},\"yaxis\":{\"backgroundcolor\":\"#E5ECF6\",\"gridcolor\":\"white\",\"linecolor\":\"white\",\"showbackground\":true,\"ticks\":\"\",\"zerolinecolor\":\"white\",\"gridwidth\":2},\"zaxis\":{\"backgroundcolor\":\"#E5ECF6\",\"gridcolor\":\"white\",\"linecolor\":\"white\",\"showbackground\":true,\"ticks\":\"\",\"zerolinecolor\":\"white\",\"gridwidth\":2}},\"shapedefaults\":{\"line\":{\"color\":\"#2a3f5f\"}},\"annotationdefaults\":{\"arrowcolor\":\"#2a3f5f\",\"arrowhead\":0,\"arrowwidth\":1},\"geo\":{\"bgcolor\":\"white\",\"landcolor\":\"#E5ECF6\",\"subunitcolor\":\"white\",\"showland\":true,\"showlakes\":true,\"lakecolor\":\"white\"},\"title\":{\"x\":0.05},\"mapbox\":{\"style\":\"light\"}}}},                        {\"responsive\": true}                    ).then(function(){\n",
              "                            \n",
              "var gd = document.getElementById('9c284f6a-4727-41fd-9146-f5932ed69de0');\n",
              "var x = new MutationObserver(function (mutations, observer) {{\n",
              "        var display = window.getComputedStyle(gd).display;\n",
              "        if (!display || display === 'none') {{\n",
              "            console.log([gd, 'removed!']);\n",
              "            Plotly.purge(gd);\n",
              "            observer.disconnect();\n",
              "        }}\n",
              "}});\n",
              "\n",
              "// Listen for the removal of the full notebook cells\n",
              "var notebookContainer = gd.closest('#notebook-container');\n",
              "if (notebookContainer) {{\n",
              "    x.observe(notebookContainer, {childList: true});\n",
              "}}\n",
              "\n",
              "// Listen for the clearing of the current output cell\n",
              "var outputEl = gd.closest('.output');\n",
              "if (outputEl) {{\n",
              "    x.observe(outputEl, {childList: true});\n",
              "}}\n",
              "\n",
              "                        })                };                            </script>        </div>\n",
              "</body>\n",
              "</html>"
            ]
          },
          "metadata": {}
        }
      ]
    },
    {
      "cell_type": "markdown",
      "source": [
        "**Ratings Distribution by MovieId**"
      ],
      "metadata": {
        "id": "cJRfbwhjVaQM"
      }
    },
    {
      "cell_type": "code",
      "source": [
        "# Group by 'movieID' and set the upper limit of ratings in the 'rating' column to be 50.\n",
        "data = ratings_df.groupby('movieId')['rating'].count().clip(upper=50)"
      ],
      "metadata": {
        "id": "mUfI1B4WSRSq"
      },
      "execution_count": null,
      "outputs": []
    },
    {
      "cell_type": "code",
      "source": [
        "data"
      ],
      "metadata": {
        "colab": {
          "base_uri": "https://localhost:8080/"
        },
        "id": "aVmqOFX1VpUc",
        "outputId": "ebb44a3c-4618-4cb1-fd94-653a574e388d"
      },
      "execution_count": null,
      "outputs": [
        {
          "output_type": "execute_result",
          "data": {
            "text/plain": [
              "movieId\n",
              "1         50\n",
              "2         50\n",
              "3         50\n",
              "4          7\n",
              "5         49\n",
              "          ..\n",
              "193581     1\n",
              "193583     1\n",
              "193585     1\n",
              "193587     1\n",
              "193609     1\n",
              "Name: rating, Length: 9724, dtype: int64"
            ]
          },
          "metadata": {},
          "execution_count": 16
        }
      ]
    },
    {
      "cell_type": "code",
      "source": [
        "# Create histogram trace\n",
        "trace = go.Histogram( x = data.values,\n",
        "                      name = 'Ratings',\n",
        "                      xbins = dict(start = 0,\n",
        "                                   end = 50,\n",
        "                                   size = 2))\n",
        "\n",
        "# Create layout\n",
        "layout = go.Layout(autosize = False,\n",
        "                   width = 1000,\n",
        "                   height = 1000,\n",
        "                   title = 'Distribution of Number of Ratings Per Item (Clipped at 50)',\n",
        "                   xaxis = dict(title = 'Number of Ratings Per movieId'),\n",
        "                   yaxis = dict(title = 'Count'),\n",
        "                   bargap = 0.2)\n",
        "\n",
        "# Create plot\n",
        "fig = go.Figure(data=[trace], layout=layout)\n",
        "fig.show()"
      ],
      "metadata": {
        "colab": {
          "base_uri": "https://localhost:8080/",
          "height": 1000
        },
        "id": "zEbDLnWWVq8o",
        "outputId": "46462033-43a9-445e-a936-1abaab04e2ed"
      },
      "execution_count": null,
      "outputs": [
        {
          "output_type": "display_data",
          "data": {
            "text/html": [
              "<html>\n",
              "<head><meta charset=\"utf-8\" /></head>\n",
              "<body>\n",
              "    <div>            <script src=\"https://cdnjs.cloudflare.com/ajax/libs/mathjax/2.7.5/MathJax.js?config=TeX-AMS-MML_SVG\"></script><script type=\"text/javascript\">if (window.MathJax && window.MathJax.Hub && window.MathJax.Hub.Config) {window.MathJax.Hub.Config({SVG: {font: \"STIX-Web\"}});}</script>                <script type=\"text/javascript\">window.PlotlyConfig = {MathJaxConfig: 'local'};</script>\n",
              "        <script src=\"https://cdn.plot.ly/plotly-2.18.2.min.js\"></script>                <div id=\"715ae320-595d-402a-ad9f-bdc77aca099c\" class=\"plotly-graph-div\" style=\"height:1000px; width:1000px;\"></div>            <script type=\"text/javascript\">                                    window.PLOTLYENV=window.PLOTLYENV || {};                                    if (document.getElementById(\"715ae320-595d-402a-ad9f-bdc77aca099c\")) {                    Plotly.newPlot(                        \"715ae320-595d-402a-ad9f-bdc77aca099c\",                        [{\"name\":\"Ratings\",\"x\":[50,50,50,7,49,50,50,8,16,50,50,19,8,18,13,50,50,20,50,15,50,36,16,28,50,13,9,11,38,3,38,50,50,50,4,50,2,15,7,8,46,32,15,50,50,1,50,28,2,3,1,8,37,34,6,50,7,5,31,9,5,20,50,5,7,13,8,5,15,1,3,17,2,14,8,1,7,15,7,16,10,8,9,10,50,1,10,2,14,23,5,3,50,23,1,26,1,50,50,46,3,5,1,2,2,2,16,4,12,7,1,1,6,31,1,16,50,12,50,3,15,1,1,50,44,2,50,12,6,3,11,50,14,50,50,17,50,14,50,3,50,10,35,6,50,50,10,20,13,8,1,2,36,17,2,2,50,48,4,12,1,5,6,35,18,10,45,28,4,1,1,22,30,9,2,21,50,3,4,2,3,6,2,24,49,6,14,1,1,16,50,40,50,22,3,7,24,50,14,12,17,50,45,22,2,17,4,1,5,1,29,21,17,18,6,3,43,50,1,7,35,14,10,5,50,42,21,1,33,50,17,2,5,4,31,28,7,6,22,38,2,2,13,14,40,3,1,1,1,50,8,14,3,50,50,2,1,50,1,4,50,1,5,32,3,9,16,24,20,1,1,9,3,16,38,50,50,50,20,1,2,10,1,7,3,34,10,50,6,2,12,50,5,2,1,50,19,50,5,2,33,5,50,36,6,6,30,50,50,17,2,50,6,42,50,50,9,1,8,17,34,2,50,4,12,50,50,2,50,21,21,11,25,40,50,7,21,50,11,16,21,2,1,1,4,2,2,5,1,10,12,1,8,2,1,50,15,26,6,16,8,13,2,20,50,12,5,10,3,2,7,12,18,6,2,42,50,8,50,50,7,9,7,50,42,50,6,12,9,8,1,7,1,3,5,50,37,4,50,5,6,3,4,10,50,1,22,5,1,40,6,7,50,25,1,17,1,4,50,19,8,2,50,3,4,1,11,12,17,14,12,41,1,1,43,2,50,6,15,2,7,2,13,50,50,1,2,4,4,18,24,18,9,4,21,50,3,7,4,34,1,50,3,40,24,16,18,14,15,3,12,12,50,18,50,14,41,8,21,2,6,2,5,50,50,50,50,6,8,23,1,2,3,2,6,1,4,16,4,1,5,4,1,36,50,50,50,50,50,50,50,50,50,50,50,11,1,1,10,4,50,14,33,6,6,8,1,45,3,1,5,1,6,35,11,1,1,4,2,1,33,1,4,11,2,29,50,1,4,50,5,49,7,12,3,8,2,2,36,50,9,9,1,4,2,9,3,4,11,2,5,1,7,2,7,1,21,50,11,8,10,15,3,4,35,27,1,31,5,1,10,3,50,7,50,20,27,11,29,48,3,22,50,1,2,2,19,41,2,19,4,1,1,50,2,50,7,8,47,50,42,50,50,1,1,2,12,23,19,11,46,1,8,35,1,2,9,12,5,10,1,1,6,9,21,37,6,3,17,33,30,15,4,2,12,7,44,6,43,50,9,23,2,3,2,1,1,4,27,5,1,2,6,3,1,5,13,3,2,2,29,47,12,7,36,50,50,14,7,2,50,27,50,13,50,44,35,30,26,2,10,50,45,9,27,50,50,24,3,18,1,20,9,8,23,12,3,6,2,6,8,2,6,7,3,7,3,4,6,6,7,14,12,50,18,18,1,1,1,1,11,28,34,1,10,5,1,1,2,1,2,13,1,2,5,11,1,11,13,3,12,3,6,8,5,10,1,9,9,8,9,12,5,20,5,10,6,17,37,27,42,13,6,25,28,50,35,15,24,40,20,5,50,50,24,1,11,42,5,4,33,21,5,3,1,1,2,7,15,36,36,29,13,4,1,50,28,11,50,50,12,6,6,35,2,25,42,50,50,21,47,37,42,15,10,50,4,19,50,15,20,3,2,4,2,1,1,1,1,27,1,2,13,24,6,50,5,39,5,11,8,13,50,1,1,1,10,50,3,2,1,3,1,1,2,2,17,34,11,21,3,6,12,27,1,45,7,10,23,5,22,11,6,6,5,50,11,50,50,50,50,50,50,7,50,45,50,50,50,18,50,13,24,50,50,50,11,15,11,50,50,50,50,28,19,50,6,16,40,50,22,8,40,50,26,3,18,9,50,10,41,16,33,20,50,50,17,35,45,14,50,25,16,6,23,27,50,50,15,34,43,43,5,50,45,30,9,29,50,30,33,11,39,48,50,12,50,8,9,15,50,19,14,41,7,34,50,11,10,50,20,27,11,17,20,23,28,9,13,50,17,50,4,5,50,1,2,1,47,23,3,3,3,2,4,15,2,2,4,1,3,44,6,1,1,1,29,3,2,11,25,14,36,8,27,16,1,22,3,2,4,7,3,50,24,47,18,6,5,6,5,47,50,45,42,30,50,42,43,50,25,11,50,19,4,24,50,17,6,9,50,4,50,50,5,46,2,1,5,3,31,2,50,39,23,16,1,2,8,2,12,2,2,4,1,8,1,1,2,20,3,16,7,2,24,3,2,19,5,7,7,4,24,3,6,1,12,1,12,2,8,17,3,50,5,1,11,1,26,1,30,11,11,3,50,5,15,2,2,1,2,1,3,5,27,50,2,4,1,29,1,15,1,50,13,1,3,50,3,2,13,10,7,50,2,1,2,1,4,3,50,5,19,42,2,1,31,40,2,2,50,1,50,3,5,2,50,1,22,31,20,16,25,26,4,6,6,3,43,4,3,2,3,4,13,3,4,3,50,3,50,5,2,1,26,11,20,50,14,13,2,2,2,50,3,7,3,1,5,17,50,50,2,5,32,50,7,3,4,3,2,1,50,1,1,1,8,1,1,1,2,34,16,5,3,1,12,39,40,1,50,1,10,1,25,7,50,6,4,1,3,18,20,7,45,19,7,2,2,2,8,16,5,50,8,24,7,31,2,16,50,45,13,4,48,4,4,50,4,9,11,1,1,31,48,4,16,15,5,1,1,10,5,2,14,2,1,12,50,23,5,50,5,3,23,2,1,6,2,13,25,3,31,8,1,6,11,3,3,6,1,1,1,3,2,29,13,11,17,3,4,1,7,1,4,15,12,7,3,1,8,3,4,9,7,7,1,1,10,6,43,2,33,24,46,12,2,3,8,1,16,1,16,15,2,1,1,3,2,45,42,2,32,32,3,9,12,50,33,5,18,47,2,50,8,1,10,1,2,6,1,1,3,3,2,3,8,1,2,4,11,24,3,34,7,6,11,7,22,39,50,14,12,13,22,15,26,50,23,11,6,21,8,42,50,10,12,7,7,5,16,7,7,6,2,4,1,3,27,5,3,1,2,2,1,12,4,5,47,6,4,50,4,4,50,47,46,41,15,50,50,2,1,19,21,50,50,21,8,9,4,5,38,48,25,37,8,45,3,7,3,9,50,1,8,9,3,6,1,3,7,3,6,4,2,24,8,4,3,23,20,50,1,1,4,30,15,14,31,13,4,21,2,2,5,2,17,5,3,1,46,5,50,50,50,26,19,5,44,41,18,10,13,4,6,6,39,3,22,10,2,6,50,3,3,1,50,5,3,24,27,18,10,8,16,50,15,14,15,3,4,7,11,15,38,21,15,8,4,7,20,22,11,14,21,10,21,34,18,10,13,49,33,16,3,9,4,28,6,3,11,2,8,1,7,32,43,8,5,1,2,4,50,7,5,8,1,50,1,10,3,2,1,1,4,4,9,6,2,25,2,5,1,40,50,7,1,2,7,7,4,4,5,1,6,2,1,3,1,3,36,27,9,6,7,4,28,2,22,12,39,11,5,20,2,2,1,8,2,6,9,5,4,4,5,2,50,8,2,2,42,5,43,10,2,1,6,2,1,5,45,38,5,50,1,45,2,10,14,1,33,16,50,5,1,6,1,3,17,12,17,2,6,7,16,9,50,8,2,50,13,3,7,50,2,3,2,4,13,28,23,4,18,1,20,2,8,11,3,8,7,2,7,25,50,7,50,5,6,1,26,12,10,1,3,2,2,25,14,1,24,1,24,9,9,9,21,21,5,22,12,10,7,5,4,29,3,16,1,9,7,22,8,33,25,50,50,17,4,2,8,19,30,12,21,50,43,9,26,24,29,17,18,11,1,16,1,6,2,38,29,14,30,50,2,35,23,5,6,27,6,11,1,6,3,3,8,8,2,15,3,16,1,3,13,43,9,8,8,13,3,1,14,3,18,15,7,50,24,3,8,13,3,12,3,26,1,2,1,29,3,45,5,7,1,2,3,23,6,5,7,30,50,1,6,18,6,3,1,10,3,2,1,10,10,3,2,4,2,9,3,3,18,24,50,18,9,12,15,3,3,3,1,47,3,40,50,1,2,6,6,7,8,2,6,3,3,1,9,1,8,4,3,12,2,19,8,5,50,50,1,6,4,1,6,39,36,3,12,2,2,4,1,1,4,10,12,2,25,50,22,43,15,2,1,1,1,8,2,4,26,50,5,1,11,1,2,2,50,2,2,1,3,3,4,50,49,22,16,9,11,1,1,5,1,1,50,1,4,1,12,13,1,8,2,5,50,12,2,6,4,3,3,50,19,24,15,10,3,50,4,48,1,3,1,1,50,50,50,15,50,22,3,9,50,50,12,50,47,10,13,21,29,39,42,1,9,1,13,7,7,12,5,2,10,16,5,1,1,12,1,2,1,1,1,9,39,9,6,2,7,1,8,1,1,8,39,50,48,7,1,2,5,38,4,10,1,1,13,3,2,4,6,28,4,2,50,19,10,15,26,11,50,12,8,1,1,13,13,50,23,9,4,17,5,1,1,7,3,3,3,16,1,11,1,26,11,2,7,1,4,1,1,23,18,9,3,7,2,1,4,1,1,14,50,7,9,8,1,19,1,5,12,2,8,30,25,3,10,1,7,2,7,6,19,4,5,1,1,2,1,5,8,45,3,1,1,1,1,1,1,3,2,14,4,2,4,7,7,39,14,42,50,10,50,8,11,5,10,5,11,2,2,2,1,3,3,8,7,5,6,9,16,3,32,7,50,36,33,14,39,12,31,6,50,5,2,1,1,14,4,41,1,4,6,1,18,1,1,6,2,4,1,1,1,1,50,25,50,3,21,20,23,1,24,14,4,50,48,1,2,11,25,31,6,1,1,4,1,1,3,14,4,10,10,17,1,9,7,2,6,13,4,6,50,36,11,7,24,5,39,9,6,2,1,13,5,2,3,3,50,11,8,3,1,1,15,8,11,6,3,7,10,7,21,9,27,1,4,3,4,2,2,6,50,39,19,1,24,12,16,6,4,4,2,9,1,3,24,7,22,36,7,2,22,22,1,23,36,4,4,1,15,50,5,4,2,1,3,3,5,1,7,3,2,2,4,1,3,17,50,26,2,8,5,9,15,19,3,15,50,2,1,4,2,4,29,5,1,18,39,50,49,6,16,3,6,5,1,3,28,11,4,1,4,9,7,14,8,8,12,8,3,8,42,2,13,2,3,13,5,2,4,4,4,3,6,2,2,15,12,15,36,14,9,9,5,27,50,27,45,31,32,15,11,12,11,11,22,26,9,6,18,11,27,12,17,8,29,12,43,1,1,1,2,1,32,5,3,1,1,1,7,21,3,39,42,2,1,4,13,7,5,2,1,13,22,1,3,3,3,5,19,1,2,1,10,7,5,1,1,9,3,1,21,15,1,10,11,22,35,38,43,3,7,2,2,2,1,1,1,4,8,31,7,11,1,1,2,6,3,7,3,33,11,15,1,5,2,1,6,1,3,50,35,1,6,1,3,1,41,3,50,6,3,27,5,7,1,12,4,3,2,1,1,17,4,25,13,14,14,1,9,4,2,2,43,1,29,11,18,2,2,1,1,13,25,8,4,18,6,5,50,2,1,2,26,13,7,18,3,50,13,10,50,1,6,1,4,8,44,4,5,3,11,22,9,5,15,18,36,6,8,7,1,9,4,6,7,10,5,15,50,5,5,1,25,50,21,3,5,2,14,3,5,2,5,8,6,13,50,5,3,33,26,5,3,3,12,7,8,1,1,2,2,4,2,1,4,2,50,2,2,4,1,2,1,15,1,19,6,1,2,3,5,1,4,25,1,8,14,10,41,12,1,1,50,43,1,3,4,2,7,5,17,1,18,1,26,18,1,2,2,17,1,8,1,3,13,2,1,2,1,2,1,1,1,15,1,50,5,2,1,8,10,4,1,2,1,33,5,19,7,9,15,1,11,4,5,1,1,8,2,2,3,21,34,13,1,13,38,40,24,8,8,10,10,1,3,1,3,1,1,2,1,50,2,1,5,5,2,5,8,4,3,17,1,4,3,17,1,1,2,1,28,11,10,3,19,29,2,2,50,46,50,9,44,1,2,3,1,16,5,2,6,3,2,3,6,3,2,4,11,11,50,4,2,6,1,2,16,1,50,2,1,3,25,6,4,4,1,1,1,35,3,7,12,3,9,1,3,16,4,2,11,29,39,23,2,11,1,2,2,6,15,3,1,3,5,6,4,9,1,4,1,2,1,13,2,1,5,2,19,2,45,5,4,42,26,1,5,1,7,9,2,34,3,1,6,19,1,1,8,50,2,1,1,2,2,3,4,20,50,2,1,6,41,15,9,1,1,1,6,1,6,4,2,4,2,1,4,2,1,1,1,1,8,1,5,3,50,50,8,1,7,4,6,3,1,8,1,2,3,1,2,37,27,26,2,16,4,1,50,15,24,14,13,9,21,6,20,6,33,2,4,9,5,6,50,50,12,12,14,3,27,3,12,7,20,13,2,8,50,4,47,33,37,14,50,28,13,5,50,23,3,50,50,12,5,2,1,13,50,3,11,8,16,13,14,4,3,1,9,1,8,2,16,2,7,2,8,4,1,1,4,4,7,22,1,2,1,2,2,3,2,1,19,46,5,1,8,4,2,1,6,10,5,22,7,1,1,2,1,1,3,12,1,4,2,4,3,26,1,3,3,8,8,1,2,1,4,2,1,14,3,2,39,11,2,12,2,8,1,1,6,7,4,23,2,2,10,4,1,1,4,6,1,1,1,3,1,2,4,2,3,1,1,2,1,6,1,6,3,6,6,1,13,6,2,1,3,5,4,40,2,7,50,10,4,5,28,6,5,23,1,1,17,50,1,5,1,1,50,21,6,1,2,13,10,3,4,1,50,2,5,5,2,45,2,5,2,3,9,1,1,3,3,1,11,2,4,2,2,2,2,41,3,5,4,50,1,50,43,2,2,2,3,31,10,1,1,11,16,3,10,5,2,1,4,11,1,27,34,3,3,8,2,16,1,1,2,5,1,8,32,19,40,11,45,50,1,5,3,1,14,7,4,5,1,11,9,26,4,2,3,1,1,1,10,2,2,1,2,1,5,1,1,3,1,2,4,1,2,3,2,9,2,2,4,2,1,1,8,3,4,2,3,3,2,3,1,31,50,20,1,7,1,6,1,1,1,1,2,1,5,5,2,13,2,3,1,5,1,3,8,2,3,3,3,2,11,3,24,1,3,1,1,1,6,16,1,4,1,1,3,8,5,1,2,2,4,9,3,1,1,2,1,5,2,4,3,4,2,4,3,2,5,20,6,3,9,1,14,1,3,6,2,1,45,3,1,2,3,2,2,1,1,1,4,8,2,5,2,1,1,1,2,2,3,1,4,2,1,1,1,1,1,1,6,2,2,18,2,20,3,3,2,4,2,1,2,2,1,3,36,18,4,34,11,49,3,1,1,7,1,7,1,1,2,3,3,1,1,1,2,3,1,6,13,9,13,7,2,4,1,3,1,2,1,4,2,27,31,4,1,1,2,3,1,2,7,2,1,1,45,8,50,4,1,3,4,4,18,9,3,34,5,3,4,1,7,2,7,4,6,2,1,6,2,3,1,3,1,1,2,3,1,4,6,1,50,1,2,2,1,2,1,1,10,1,3,4,3,3,2,1,10,1,2,4,4,1,4,3,1,2,6,1,5,6,50,1,5,3,25,1,2,1,1,1,1,3,3,2,1,6,3,5,2,50,3,4,3,20,8,1,3,2,1,20,8,5,1,19,33,12,1,50,1,9,17,1,1,50,14,4,7,31,2,50,4,8,5,27,10,10,2,2,4,8,5,3,1,2,3,5,1,1,1,4,4,1,9,1,8,1,1,1,2,7,1,1,11,3,2,20,2,1,1,50,1,2,1,13,4,1,5,50,14,44,4,2,6,50,20,1,2,2,1,9,5,3,17,50,10,50,1,7,1,9,8,50,2,1,27,17,18,6,3,2,15,14,5,1,2,3,6,8,1,3,9,6,11,2,1,1,8,1,46,2,1,32,13,14,1,2,1,13,3,3,3,3,1,5,5,2,1,5,9,7,1,2,4,4,24,1,7,5,11,1,24,1,1,2,1,1,3,1,3,11,2,2,12,2,3,9,9,4,18,18,1,1,7,2,1,2,22,2,1,2,3,1,1,1,2,2,1,1,1,4,50,30,10,1,4,2,21,2,1,1,2,1,1,1,1,4,9,4,3,34,4,2,2,4,11,37,12,1,1,1,1,1,2,2,22,1,1,2,18,7,9,11,10,2,5,50,1,7,2,1,19,8,1,7,22,7,6,1,1,8,2,7,1,10,3,2,3,1,6,2,1,2,2,1,50,1,1,2,1,2,9,7,1,1,1,1,44,50,6,10,3,1,1,3,33,2,1,3,2,2,17,9,3,2,4,4,4,1,3,50,17,8,6,1,3,1,2,3,4,3,5,1,3,4,1,1,2,29,50,7,2,1,22,5,5,6,2,1,1,1,50,3,1,2,18,49,1,4,1,3,3,2,3,3,4,8,6,5,50,3,3,2,1,1,1,3,1,2,10,7,50,1,7,12,3,24,7,2,1,1,2,4,3,8,1,4,19,2,7,2,1,1,2,2,9,15,2,4,5,1,8,3,1,1,3,2,7,2,5,7,7,26,1,12,1,1,8,1,6,2,3,1,1,1,2,1,1,2,1,1,11,2,3,2,1,3,1,1,25,50,2,28,10,3,5,1,31,5,2,1,2,2,1,1,3,3,4,1,11,1,1,1,1,5,5,2,4,50,2,2,33,1,3,47,3,2,1,2,2,1,16,11,2,3,1,1,1,1,2,2,4,1,1,1,2,1,1,1,1,1,7,1,1,2,1,1,1,1,2,1,1,1,19,9,17,1,1,3,16,6,5,1,1,1,1,7,5,4,41,11,50,1,1,3,1,1,1,3,1,1,1,1,3,4,1,1,2,1,1,2,27,4,5,1,5,14,4,2,20,8,1,1,1,1,2,4,2,1,4,8,1,46,44,5,1,2,2,1,2,1,1,2,2,6,6,19,19,26,1,2,4,50,1,22,9,50,19,9,1,1,2,3,1,1,10,37,1,1,1,2,2,1,4,50,1,49,15,5,2,46,2,7,3,15,3,8,1,4,2,5,50,1,1,3,2,5,3,1,2,1,2,1,4,4,3,1,1,1,3,2,1,10,17,2,6,3,1,1,1,2,1,1,4,1,3,1,9,1,1,2,1,2,1,2,1,2,1,2,1,3,2,29,19,32,1,2,3,1,8,2,3,1,1,1,3,4,3,1,8,39,1,3,2,3,3,1,1,2,1,1,6,7,9,3,2,2,40,3,4,1,2,1,1,1,1,3,1,9,2,1,11,2,1,1,4,7,1,4,2,2,8,2,8,1,2,2,3,1,1,1,2,32,20,1,4,34,4,1,7,3,11,1,14,20,3,9,3,5,1,8,10,3,4,1,2,2,3,1,3,2,6,22,2,3,1,2,13,4,50,3,3,1,4,6,4,4,1,1,3,1,3,3,24,2,1,50,10,4,5,1,50,3,4,2,50,50,2,7,1,19,14,1,3,1,1,1,1,2,1,1,2,2,1,1,1,1,2,1,2,1,3,1,3,14,2,2,1,1,1,1,5,6,2,1,3,1,1,1,11,3,7,1,50,27,1,2,1,1,1,1,2,2,1,1,2,1,33,11,6,45,5,50,32,1,1,2,17,3,13,1,12,1,2,1,3,4,1,1,1,17,18,3,3,2,1,2,1,1,2,1,2,2,3,1,3,16,1,1,6,1,24,14,1,1,1,1,1,1,1,2,3,9,2,9,17,6,18,5,4,1,3,2,4,3,7,4,1,7,3,1,1,4,16,1,11,5,6,1,5,1,6,2,1,1,1,2,5,4,1,1,1,1,4,1,1,5,1,1,8,34,14,4,50,5,1,1,2,7,1,2,5,8,2,2,4,1,1,3,1,1,12,33,14,2,7,17,9,1,1,2,1,22,8,1,3,5,2,1,3,4,4,27,1,1,3,5,11,5,18,1,2,3,1,1,40,4,1,5,5,2,1,1,1,2,6,1,3,5,1,1,1,3,2,4,1,2,13,2,1,2,50,12,7,3,50,4,20,50,17,7,7,1,1,2,3,1,5,20,2,9,10,3,1,2,2,1,1,2,3,1,7,50,1,39,1,1,50,13,2,2,36,1,1,3,5,9,25,3,26,10,3,1,1,2,1,3,1,1,2,1,1,6,5,4,21,2,1,1,1,5,1,7,4,1,2,13,2,7,2,1,2,4,6,17,1,8,5,3,3,1,7,3,3,3,5,2,30,1,3,2,4,5,7,2,1,1,4,8,7,1,1,1,1,5,3,11,1,4,1,2,2,1,1,2,1,2,1,1,2,3,1,1,8,6,1,2,4,1,1,3,1,1,1,8,3,2,3,2,1,4,2,1,2,1,2,38,2,2,2,1,23,6,4,1,3,2,2,1,1,5,4,5,2,4,1,9,3,1,1,1,9,1,10,7,1,3,50,50,17,10,12,50,10,8,13,9,17,8,12,17,6,1,1,8,2,24,2,1,1,1,1,1,1,1,1,2,2,1,1,3,2,3,1,2,4,3,1,1,1,2,1,3,4,6,6,3,1,1,1,11,1,1,46,8,8,4,4,4,1,3,1,10,1,13,1,1,9,1,47,4,3,3,3,1,4,1,2,1,2,1,3,3,1,2,4,15,13,6,5,2,23,11,21,1,6,1,2,1,1,4,1,1,20,15,3,1,2,3,1,16,50,4,1,8,14,1,4,20,1,41,7,6,1,6,7,7,2,4,20,1,1,2,7,1,1,7,50,14,2,1,21,35,4,2,4,39,24,1,1,48,1,6,1,1,4,13,2,1,1,2,4,1,1,1,2,3,12,8,1,8,3,2,2,4,2,1,1,2,3,1,6,1,2,2,5,3,2,9,5,5,7,1,1,2,4,1,1,1,1,1,4,1,3,1,1,2,1,4,1,2,2,6,4,4,2,1,2,1,2,1,2,8,3,1,3,1,2,1,1,1,1,1,3,1,1,3,2,4,1,2,5,3,1,1,2,2,2,2,1,4,2,1,1,1,1,1,1,2,1,2,3,7,1,2,1,1,1,1,1,1,1,1,7,9,4,5,1,1,1,1,3,1,3,1,4,3,10,1,2,1,2,1,3,2,7,1,3,1,1,1,1,1,1,1,3,2,1,1,5,1,9,1,1,2,2,1,1,1,6,5,1,2,7,3,1,1,1,1,2,1,1,2,6,1,17,1,2,1,1,1,1,5,6,3,1,5,2,2,1,2,1,1,2,1,1,1,2,1,7,3,50,50,4,2,4,14,50,3,12,23,5,12,1,37,1,1,1,1,1,1,5,1,1,2,1,1,1,1,1,1,1,1,2,1,1,1,1,1,1,1,50,1,2,1,2,1,2,3,2,6,1,1,1,4,1,2,9,1,1,1,2,3,39,47,2,6,1,38,1,1,3,1,2,1,1,2,1,4,2,1,1,1,1,2,2,1,5,2,5,2,2,1,6,1,2,37,11,1,1,7,50,15,13,50,9,50,8,1,2,50,9,1,1,2,1,1,1,3,1,1,1,1,2,1,2,1,2,1,2,2,1,1,1,1,1,1,1,2,12,2,26,48,1,5,44,3,1,1,34,7,2,17,2,7,3,5,2,1,2,3,3,3,3,1,1,2,7,14,3,18,9,6,5,27,50,1,6,7,1,1,3,13,6,21,1,2,17,1,3,32,1,2,1,1,3,1,1,8,1,3,2,2,10,3,39,38,4,1,1,1,33,19,3,50,1,11,8,4,6,20,32,38,8,2,10,2,1,16,3,25,43,14,1,1,1,1,2,1,5,3,1,2,1,1,1,1,4,1,1,2,1,1,1,4,1,2,1,1,3,3,2,1,1,2,1,2,1,1,1,1,3,1,1,1,1,1,1,1,1,1,1,1,1,1,2,1,1,1,3,5,1,2,1,1,5,6,1,1,1,2,5,1,2,1,3,2,1,2,2,1,2,1,1,1,1,5,2,5,1,1,1,1,1,1,1,4,2,3,1,1,1,1,1,1,1,3,1,1,1,1,1,2,2,3,1,2,1,1,1,4,1,3,1,2,2,1,2,1,3,1,2,2,2,2,1,2,1,3,3,1,1,1,1,1,2,2,9,1,3,1,2,1,2,17,1,5,2,3,1,1,1,1,2,1,2,3,1,1,1,5,1,1,1,1,1,2,1,2,2,14,1,3,1,1,2,1,1,3,2,1,1,1,1,1,1,1,4,3,2,1,1,1,1,5,1,1,1,1,1,2,3,1,2,1,1,1,1,5,1,2,1,1,1,1,1,1,1,1,5,1,1,2,4,1,2,1,7,1,3,6,1,1,1,3,1,1,1,4,3,2,1,1,3,2,1,1,3,1,2,1,1,1,1,1,1,2,3,2,5,1,4,19,2,2,1,1,20,2,1,4,1,2,1,1,1,1,1,25,1,1,6,3,3,8,6,1,1,1,1,2,1,6,39,1,1,1,8,4,2,12,1,8,11,11,1,2,6,5,1,1,1,19,3,4,2,5,10,2,2,1,1,3,4,4,4,2,22,1,5,50,2,48,50,3,37,35,12,1,3,11,33,2,3,4,2,1,8,3,1,1,1,1,1,1,1,2,2,3,1,1,1,3,1,10,1,7,1,1,1,5,1,20,8,1,1,6,2,11,1,2,2,1,1,1,1,1,1,40,2,1,45,1,2,35,1,3,1,1,4,1,1,19,1,1,1,3,1,1,1,3,6,7,8,3,10,19,1,1,1,1,1,3,1,1,4,5,1,8,3,3,1,1,2,1,1,1,2,4,1,1,1,3,2,4,50,1,7,8,1,1,1,1,4,1,1,1,1,2,1,1,1,2,5,1,1,1,44,6,2,1,1,1,1,6,1,6,5,17,6,50,2,1,1,1,1,1,1,3,1,9,50,7,4,1,2,40,1,3,1,9,1,17,7,7,3,50,2,2,3,2,2,50,1,2,1,3,4,13,1,4,1,3,5,1,1,50,18,1,3,2,36,3,50,1,4,1,1,31,3,7,2,1,6,5,4,10,1,1,50,21,1,12,3,3,3,4,7,3,1,5,1,1,1,1,1,50,9,2,1,2,1,20,1,3,13,16,8,7,35,2,9,3,12,2,1,1,4,10,8,13,21,1,1,1,1,2,6,11,44,9,27,3,5,23,10,1,2,9,30,35,3,1,1,1,1,4,2,1,4,9,1,34,4,4,20,1,8,5,7,4,5,9,13,5,1,7,2,4,7,17,7,2,5,1,1,1,6,16,1,4,1,27,2,4,11,50,39,10,4,2,2,4,3,3,1,1,17,2,50,40,12,8,2,1,1,7,1,1,1,5,21,9,6,3,4,11,4,3,2,1,2,1,5,1,1,1,1,5,1,5,11,7,5,2,3,4,16,1,1,1,2,1,1,4,7,1,3,1,2,1,6,1,9,1,3,1,7,2,8,5,1,1,1,4,3,5,13,1,2,9,6,2,23,1,50,6,36,1,40,4,2,1,1,1,1,6,2,1,34,1,2,1,1,38,8,5,1,3,3,12,1,1,6,5,11,1,1,4,2,2,1,1,1,12,12,6,2,1,12,1,4,1,28,3,7,6,2,2,14,6,4,49,50,11,1,41,2,1,1,5,14,10,23,34,50,6,13,9,6,13,5,13,1,3,1,1,8,11,2,2,1,25,1,3,1,50,1,31,1,3,1,1,1,9,14,4,28,23,6,44,10,46,9,2,14,1,1,3,4,1,2,5,1,3,3,1,14,1,1,43,13,6,7,1,1,3,1,1,1,4,4,1,5,1,3,1,18,7,1,1,14,1,11,6,1,2,1,1,19,1,7,3,2,50,50,4,2,1,50,2,6,1,3,2,2,2,1,2,4,2,20,1,3,50,50,11,1,11,2,2,7,8,2,1,3,3,4,1,1,50,11,3,20,3,3,24,1,3,2,9,2,50,3,12,14,1,1,1,4,2,7,5,4,1,6,2,4,2,3,1,17,1,2,2,3,2,1,1,1,8,2,1,9,1,1,2,6,3,2,10,2,4,2,3,3,1,2,2,50,8,2,1,2,1,3,4,12,8,1,10,14,2,4,1,1,50,1,1,14,1,2,38,1,1,1,5,50,1,1,2,2,7,6,3,1,3,2,5,1,25,2,6,1,6,17,1,27,3,11,1,7,14,2,11,10,1,2,12,2,2,4,3,1,44,1,2,3,1,1,1,9,2,8,4,50,15,21,2,4,21,9,50,4,7,2,2,1,2,1,4,33,1,1,4,1,1,1,7,20,3,7,26,3,2,1,1,1,14,1,25,4,32,3,13,39,50,11,2,1,2,11,7,34,46,1,2,5,50,1,3,50,1,5,1,3,2,8,2,1,2,3,4,1,1,12,1,1,1,1,22,25,12,1,1,13,1,1,3,1,2,3,1,1,3,19,1,4,1,1,1,10,3,4,41,3,4,1,8,9,21,2,2,17,2,8,11,20,2,1,10,1,11,3,2,1,3,1,5,2,1,10,1,37,10,1,5,50,10,1,1,6,8,2,8,2,2,1,1,14,17,7,1,18,50,3,10,1,2,1,2,8,50,2,1,4,13,3,1,6,30,24,28,8,6,5,1,1,1,1,5,11,20,1,2,3,8,1,27,1,1,1,10,1,1,9,3,2,1,18,41,2,1,1,3,18,14,1,6,5,2,7,10,7,1,1,1,17,13,1,8,4,3,1,1,4,3,4,1,2,2,3,1,2,50,1,2,1,18,2,1,4,1,2,2,1,1,2,1,39,3,1,1,13,1,3,3,1,5,2,1,3,2,1,11,1,2,50,4,1,42,11,8,2,1,12,1,2,39,1,11,3,1,1,50,1,1,15,1,1,1,1,1,5,35,1,50,22,29,16,2,1,6,2,2,3,1,3,1,1,1,14,2,1,5,5,2,2,1,1,1,43,1,1,2,28,4,8,1,1,1,1,2,1,1,7,4,1,16,3,1,31,3,1,1,1,33,7,1,1,5,17,1,9,10,2,1,1,3,1,39,3,3,4,1,2,2,2,1,1,1,2,2,1,1,1,8,6,10,1,5,4,1,9,2,11,3,2,3,21,1,3,4,1,1,7,1,1,2,1,1,1,13,9,2,13,1,8,9,50,35,20,1,2,1,2,1,1,4,3,4,1,4,1,2,1,5,18,11,22,1,6,3,6,1,2,3,2,6,2,1,5,7,1,1,7,46,9,7,1,11,34,37,34,11,3,2,1,11,3,5,2,1,4,1,7,1,14,11,1,1,10,1,4,1,1,1,1,4,1,7,5,1,1,7,1,1,3,1,35,2,2,11,1,6,1,1,1,5,1,5,2,1,4,2,2,5,2,1,24,2,17,1,2,1,9,25,4,4,1,8,1,2,1,2,4,15,4,1,1,10,5,5,10,50,3,2,8,32,2,26,1,50,1,1,3,1,1,1,17,1,1,1,8,18,10,1,3,1,1,2,2,6,50,2,6,1,50,1,5,1,1,1,1,1,4,7,1,6,1,16,7,2,1,34,1,2,3,20,2,2,3,9,14,1,1,1,1,1,42,10,2,50,3,1,1,16,1,1,1,4,12,1,1,50,12,1,2,1,8,3,1,1,3,3,1,4,5,1,3,1,2,1,1,1,3,2,1,3,3,1,3,7,14,5,1,1,2,5,1,9,1,2,3,2,3,7,17,1,8,1,3,1,1,5,2,1,1,4,11,1,1,1,1,1,5,6,14,50,1,6,1,1,3,2,12,1,4,8,1,10,1,1,1,1,32,1,3,1,1,4,2,1,2,18,2,2,1,4,21,3,2,9,1,1,3,1,1,1,1,5,1,31,1,1,1,3,1,3,3,7,12,1,1,1,1,50,4,50,5,3,3,1,2,5,6,2,5,16,5,4,1,1,1,1,1,1,2,1,1,1,1,1,1,3,1,1,2,3,2,1,1,4,1,2,2,2,4,1,1,3,2,50,3,4,7,5,7,2,1,1,1,2,1,1,4,1,1,3,2,3,3,28,2,9,2,5,3,9,2,1,1,2,1,1,1,6,3,1,1,6,1,1,2,15,1,50,1,2,13,43,11,1,1,1,1,1,1,2,1,1,1,1,3,1,1,1,13,47,1,1,1,1,2,5,1,1,6,1,1,1,1,5,2,4,1,13,1,1,1,2,10,1,1,3,3,5,4,17,50,1,8,1,1,7,2,1,10,2,6,1,1,8,10,1,38,50,10,10,6,8,6,2,1,3,15,1,1,7,7,1,1,5,1,1,21,1,1,17,44,2,1,3,1,1,1,1,1,1,4,3,1,6,12,3,7,1,50,1,22,27,2,1,1,1,3,3,2,8,2,1,7,1,1,2,1,6,3,1,2,12,1,3,3,1,2,6,3,1,20,1,1,5,2,1,1,1,10,18,20,42,1,7,6,1,7,1,2,1,47,50,24,2,23,1,2,2,1,1,1,1,7,7,7,2,1,2,28,19,3,1,1,1,4,1,1,1,1,1,6,6,1,1,4,18,3,1,11,1,1,1,1,9,1,5,2,2,1,1,30,1,3,2,1,1,1,14,10,2,1,1,1,6,2,1,1,1,15,1,1,2,2,17,1,1,21,4,4,1,5,4,3,1,1,1,1,1,1,7,3,7,1,2,1,5,2,34,1,12,3,6,6,3,4,6,2,1,1,1,2,1,1,4,11,1,1,1,3,6,3,8,7,34,9,7,1,7,1,5,4,1,2,10,1,1,5,1,2,21,3,1,24,25,3,2,15,1,1,1,6,2,1,17,43,3,1,3,4,21,2,10,2,5,9,11,2,9,1,2,1,4,24,3,1,1,1,1,50,32,32,31,1,4,1,2,1,1,4,20,1,1,1,2,1,2,27,2,10,21,6,1,1,2,2,2,1,1,1,1,6,1,4,2,1,1,3,1,1,1,1,12,26,1,2,1,1,50,8,3,2,11,9,1,3,1,19,1,11,2,1,2,1,1,6,2,4,1,1,2,4,1,3,14,1,4,7,2,2,6,1,1,4,1,5,3,1,8,4,1,1,12,1,1,1,18,3,5,1,1,11,2,10,7,3,6,1,1,1,1,5,2,1,2,1,1,1,2,1,10,2,50,50,18,38,1,2,3,22,5,42,2,1,2,1,3,1,2,1,1,1,1,1,1,5,6,3,1,3,1,2,1,1,1,1,1,37,2,2,1,3,8,2,1,2,2,1,4,3,10,1,2,1,1,1,2,1,1,5,1,2,1,1,1,1,1,1,1,1,1,8,5,4,2,1,11,11,4,1,26,1,3,1,1,5,2,1,4,1,2,1,4,9,22,1,2,1,1,1,4,3,4,1,2,2,1,1,4,2,1,2,6,1,3,1,17,1,18,6,1,1,3,27,1,2,1,1,5,29,3,1,3,6,9,1,1,2,1,1,1,30,1,1,2,1,1,1,6,1,4,3,1,1,3,21,5,1,2,2,1,1,30,1,6,7,2,1,1,3,1,1,9,1,1,1,1,1,1,1,1,5,4,8,1,1,1,2,1,3,50,1,9,1,1,1,2,1,1,1,5,1,4,3,1,4,1,1,1,1,1,20,3,1,32,3,3,2,1,6,14,6,2,20,10,1,7,1,1,1,1,1,1,2,2,1,1,11,1,1,28,15,1,2,2,1,1,1,19,1,1,7,1,4,2,1,1,22,30,9,1,31,1,1,1,2,2,7,4,1,1,4,1,2,12,2,1,1,8,2,1,5,1,1,2,1,1,1,40,1,1,14,1,14,1,1,3,12,50,8,1,1,3,7,1,1,2,2,1,1,1,1,3,1,2,8,1,1,2,3,1,1,1,3,1,1,5,1,1,1,1,1,1,1,6,4,1,1,6,4,1,2,1,1,2,3,1,2,1,2,1,5,1,1,1,3,2,6,9,3,1,8,2,1,5,1,1,4,4,2,2,2,20,1,1,4,1,1,1,5,1,1,1,1,1,14,32,1,3,1,1,1,2,20,27,10,1,1,1,2,8,7,2,1,1,1,1,1,1,1,1,1,1,2,22,1,4,1,22,2,4,1,2,2,16,1,1,1,1,14,1,5,1,19,16,19,6,18,1,6,7,1,1,1,2,2,4,1,1,1,2,3,1,7,1,16,3,5,2,1,3,4,3,1,4,2,4,1,2,1,21,5,11,5,2,2,3,3,1,2,15,2,2,1,1,1,1,32,3,2,16,3,2,11,3,2,1,4,1,4,2,8,1,2,2,1,2,2,2,21,1,2,2,4,1,2,1,1,1,1,16,4,16,2,21,17,1,2,2,1,26,25,7,4,1,1,7,1,29,7,50,1,2,3,1,1,16,20,25,1,1,2,8,1,2,1,11,21,1,1,1,1,1,1,1,2,1,2,1,1,1,1,1,1,2,1,2,1,1,1,6,2,18,1,1,1,2,1,2,7,1,6,31,6,3,1,2,1,1,3,1,1,1,1,1,1,2,50,1,1,4,50,2,2,4,1,1,4,1,1,4,2,2,2,2,3,1,1,2,1,31,5,3,1,1,3,1,1,1,7,1,11,1,1,1,1,2,2,1,7,1,6,1,1,1,3,12,1,1,14,30,13,1,1,2,1,8,3,16,2,1,1,12,44,17,1,1,1,1,1,1,9,3,1,19,9,15,26,17,1,1,1,1,4,3,1,1,2,2,1,3,38,37,1,15,1,1,5,3,5,50,1,3,4,1,1,1,1,1,2,1,1,1,1,2,4,1,1,5,1,1,5,2,1,4,1,1,2,1,1,1,1,2,1,3,1,3,1,16,1,1,1,1,1,1,1,2,2,15,1,2,1,2,3,4,3,1,1,10,1,1,3,29,1,1,1,13,1,2,1,18,41,2,1,3,28,1,1,1,3,1,1,1,1,1,1,1,1,1,1,2,1,1,1,50,6,1,23,1,2,10,1,1,3,1,1,2,1,17,3,1,1,1,3,1,23,1,4,2,1,11,1,1,1,5,1,1,5,4,6,1,1,1,1,1,1,1,1,1,1,1,2,18,2,3,1,1,1,1,1,2,2,1,1,5,2,1,2,5,1,12,36,1,6,1,1,2,1,1,1,1,1,10,3,1,5,2,1,1,9,1,1,1,1,1,1,2,1,1,1,1,4,1,1,1,1,1,1,1,1,1,1,1,1,1,1,47,2,41,1,6,27,7,6,27,5,50,11,13,20,27,22,22,14,16,1,1,1,1,1,2,1,1,1,1,1,1,1,1,3,1,2,1,1,1,1,1,2,1,6,1,1,3,4,4,4,1,1,1,1,1,2,1,2,1,1,1,1,1,6,6,2,1,2,1,1,1,1,1,1,1,1,18,1,1,2,5,1,1,1,5,1,1,1,1,1,2,1,1,1,1,1,2,4,1,1,1,1,1,1,10,2,2,1,1,1,2,1,3,1,1,1,1,2,1,3,1,1,6,1,3,8,4,1,6,1,1,1,1,1,1,8,1,1,1,1,1,1,1,1,1,2,3,1,1,1,1,2,1,1,7,1,1,4,1,1,1,2,2,1,1,1,1,1,1,2,4,2,1,1,1,1,1,1,1,9,1,1,2,1,7,1,1,1,2,1,1,1,1,1,1,1,1,1,48,1,7,1,4,1,1,1,1,1,16,10,1,1,1,1,1,1,1,1,1,43,1,1,3,10,6,14,1,1,1,7,2,2,3,1,12,4,15,1,1,1,1,9,1,15,1,1,4,3,17,1,1,2,1,1,1,1,1,1,1,2,1,1,1,1,1,1,6,1,6,2,1,1,2,1,1,1,1,1,1,1,1,1,16,1,1,1,4,1,1,1,11,1,1,18,1,2,2,5,1,1,1,1,1,1,1,1,1,1,1,31,1,1,1,6,11,1,2,1,2,1,1,2,1,1,1,13,1,1,8,1,4,1,1,1,1,4,1,1,1,1,1,1,6,7,2,1,1,1,1,5,4,2,1,1,2,1,1,3,1,1,2,1,2,1,1,1,1,1,2,1,1,1,3,2,1,1,1,1,1,2,1,4,1,2,2,4,1,1,6,2,19,1,2,3,1,1,1,1,1,1,4,1,1,2,1,2,13,1,2,8,1,1,1,1,1,1,8,1,3,1,1,1,1,1,1,1,2,1,1,1,2,1,1,1,1,1,1,1,3,1,1,1,1,1,1,1,1,8,1,1,1,1,1,1,1,1,1,1,1,1,1,1,1,1,2,3,2,4,4,3,4,1,1,1,1,1,2,1,2,1,1,26,1,2,1,2,1,1,1,2,3,4,1,1,1,1,1,1,1,1,6,7,1,8,1,1,1,1,1,1,1,2,10,1,2,1,1,1,1,3,1,3,1,1,1,1,1,1,1,4,1,1,2,1,1,1,2,1,1,1,14,2,32,3,1,4,1,1,1,1,1,1,1,1,4,1,1,1,1,1,1,1,2,1,3,1,3,1,1,1,1,2,2,1,1,3,3,1,1,3,5,1,1,3,1,1,1,1,1,1,1,2,1,13,3,1,1,1,1,6,1,1,1,1,1,15,1,1,1,1,1,1,3,4,1,1,7,1,1,2,5,3,1,1,1,11,1,1,1,2,2,1,1,2,2,1,1,7,1,2,1,8,4,1,1,1,1,9,1,1,6,2,3,1,2,1,1,1,1,2,1,1,1,1,4,1,6,1,1,1,1,2,8,1,1,3,8,1,5,1,1,2,1,1,1,6,1,3,6,1,1,3,1,6,1,1,1,1,1,1,3,1,1,1,8,1,1,1,1,1,1,26,2,1,1,1,1,1,1,1,1,1,1,9,2,1,4,2,1,1,1,1,1,1,5,1,1,3,1,1,1,2,1,2,1,2,1,1,2,10,3,1,27,6,1,2,6,10,1,2,4,4,1,1,2,1,1,1,1,1,1,7,1,1,1,1,1,1,1,1,7,15,25,4,4,4,1,1,2,5,1,4,1,2,1,1,1,1,1,1,1,2,1,1,5,1,1,1,2,1,1,1,1,1,1,4,7,1,3,1,1,1,3,1,1,1,1,1,1,1,5,1,1,2,1,1,1,1,1,1,9,2,1,2,1,1,1,2,1,1,1,1,1,1,2,1,1,1,1,1,2,1,1,1,1,1,1,1,1,4,2,1,1,1,1,1,4,1,1,1,1,1,1,1,1,2,1,1,1,4,13,1,1,1,1,1,1,1,1,1,1,1,1,9,1,1,1,1,1,1,3,5,1,1,3,1,1,1,1,1,1,8,1,18,1,1,1,2,1,1,1,1,2,1,1,1,1,8,3,3,13,1,3,1,1,1,1,1,2,1,1,1,1,1,2,6,1,1,1,1,1,1,1,3,12,1,8,1,3,1,1,1,2,2,1,5,1,2,1,1,1,1,1,1,1,1,1,3,1,1,1,1,4,1,1,1,1,1,1,1,1,1,5,1,1,2,1,1,2,1,1,4,1,1,2,1,1,1,4,1,1,2,1,1,2,1,2,4,12,5,1,1,3,1,1,1,1,1,1,2,1,1,1,1,1,1,1,1,1,1,1,1,1,1,1,1,1,1,1,1,1],\"xbins\":{\"end\":50,\"size\":2,\"start\":0},\"type\":\"histogram\"}],                        {\"autosize\":false,\"bargap\":0.2,\"height\":1000,\"title\":{\"text\":\"Distribution of Number of Ratings Per Item (Clipped at 50)\"},\"width\":1000,\"xaxis\":{\"title\":{\"text\":\"Number of Ratings Per movieId\"}},\"yaxis\":{\"title\":{\"text\":\"Count\"}},\"template\":{\"data\":{\"histogram2dcontour\":[{\"type\":\"histogram2dcontour\",\"colorbar\":{\"outlinewidth\":0,\"ticks\":\"\"},\"colorscale\":[[0.0,\"#0d0887\"],[0.1111111111111111,\"#46039f\"],[0.2222222222222222,\"#7201a8\"],[0.3333333333333333,\"#9c179e\"],[0.4444444444444444,\"#bd3786\"],[0.5555555555555556,\"#d8576b\"],[0.6666666666666666,\"#ed7953\"],[0.7777777777777778,\"#fb9f3a\"],[0.8888888888888888,\"#fdca26\"],[1.0,\"#f0f921\"]]}],\"choropleth\":[{\"type\":\"choropleth\",\"colorbar\":{\"outlinewidth\":0,\"ticks\":\"\"}}],\"histogram2d\":[{\"type\":\"histogram2d\",\"colorbar\":{\"outlinewidth\":0,\"ticks\":\"\"},\"colorscale\":[[0.0,\"#0d0887\"],[0.1111111111111111,\"#46039f\"],[0.2222222222222222,\"#7201a8\"],[0.3333333333333333,\"#9c179e\"],[0.4444444444444444,\"#bd3786\"],[0.5555555555555556,\"#d8576b\"],[0.6666666666666666,\"#ed7953\"],[0.7777777777777778,\"#fb9f3a\"],[0.8888888888888888,\"#fdca26\"],[1.0,\"#f0f921\"]]}],\"heatmap\":[{\"type\":\"heatmap\",\"colorbar\":{\"outlinewidth\":0,\"ticks\":\"\"},\"colorscale\":[[0.0,\"#0d0887\"],[0.1111111111111111,\"#46039f\"],[0.2222222222222222,\"#7201a8\"],[0.3333333333333333,\"#9c179e\"],[0.4444444444444444,\"#bd3786\"],[0.5555555555555556,\"#d8576b\"],[0.6666666666666666,\"#ed7953\"],[0.7777777777777778,\"#fb9f3a\"],[0.8888888888888888,\"#fdca26\"],[1.0,\"#f0f921\"]]}],\"heatmapgl\":[{\"type\":\"heatmapgl\",\"colorbar\":{\"outlinewidth\":0,\"ticks\":\"\"},\"colorscale\":[[0.0,\"#0d0887\"],[0.1111111111111111,\"#46039f\"],[0.2222222222222222,\"#7201a8\"],[0.3333333333333333,\"#9c179e\"],[0.4444444444444444,\"#bd3786\"],[0.5555555555555556,\"#d8576b\"],[0.6666666666666666,\"#ed7953\"],[0.7777777777777778,\"#fb9f3a\"],[0.8888888888888888,\"#fdca26\"],[1.0,\"#f0f921\"]]}],\"contourcarpet\":[{\"type\":\"contourcarpet\",\"colorbar\":{\"outlinewidth\":0,\"ticks\":\"\"}}],\"contour\":[{\"type\":\"contour\",\"colorbar\":{\"outlinewidth\":0,\"ticks\":\"\"},\"colorscale\":[[0.0,\"#0d0887\"],[0.1111111111111111,\"#46039f\"],[0.2222222222222222,\"#7201a8\"],[0.3333333333333333,\"#9c179e\"],[0.4444444444444444,\"#bd3786\"],[0.5555555555555556,\"#d8576b\"],[0.6666666666666666,\"#ed7953\"],[0.7777777777777778,\"#fb9f3a\"],[0.8888888888888888,\"#fdca26\"],[1.0,\"#f0f921\"]]}],\"surface\":[{\"type\":\"surface\",\"colorbar\":{\"outlinewidth\":0,\"ticks\":\"\"},\"colorscale\":[[0.0,\"#0d0887\"],[0.1111111111111111,\"#46039f\"],[0.2222222222222222,\"#7201a8\"],[0.3333333333333333,\"#9c179e\"],[0.4444444444444444,\"#bd3786\"],[0.5555555555555556,\"#d8576b\"],[0.6666666666666666,\"#ed7953\"],[0.7777777777777778,\"#fb9f3a\"],[0.8888888888888888,\"#fdca26\"],[1.0,\"#f0f921\"]]}],\"mesh3d\":[{\"type\":\"mesh3d\",\"colorbar\":{\"outlinewidth\":0,\"ticks\":\"\"}}],\"scatter\":[{\"fillpattern\":{\"fillmode\":\"overlay\",\"size\":10,\"solidity\":0.2},\"type\":\"scatter\"}],\"parcoords\":[{\"type\":\"parcoords\",\"line\":{\"colorbar\":{\"outlinewidth\":0,\"ticks\":\"\"}}}],\"scatterpolargl\":[{\"type\":\"scatterpolargl\",\"marker\":{\"colorbar\":{\"outlinewidth\":0,\"ticks\":\"\"}}}],\"bar\":[{\"error_x\":{\"color\":\"#2a3f5f\"},\"error_y\":{\"color\":\"#2a3f5f\"},\"marker\":{\"line\":{\"color\":\"#E5ECF6\",\"width\":0.5},\"pattern\":{\"fillmode\":\"overlay\",\"size\":10,\"solidity\":0.2}},\"type\":\"bar\"}],\"scattergeo\":[{\"type\":\"scattergeo\",\"marker\":{\"colorbar\":{\"outlinewidth\":0,\"ticks\":\"\"}}}],\"scatterpolar\":[{\"type\":\"scatterpolar\",\"marker\":{\"colorbar\":{\"outlinewidth\":0,\"ticks\":\"\"}}}],\"histogram\":[{\"marker\":{\"pattern\":{\"fillmode\":\"overlay\",\"size\":10,\"solidity\":0.2}},\"type\":\"histogram\"}],\"scattergl\":[{\"type\":\"scattergl\",\"marker\":{\"colorbar\":{\"outlinewidth\":0,\"ticks\":\"\"}}}],\"scatter3d\":[{\"type\":\"scatter3d\",\"line\":{\"colorbar\":{\"outlinewidth\":0,\"ticks\":\"\"}},\"marker\":{\"colorbar\":{\"outlinewidth\":0,\"ticks\":\"\"}}}],\"scattermapbox\":[{\"type\":\"scattermapbox\",\"marker\":{\"colorbar\":{\"outlinewidth\":0,\"ticks\":\"\"}}}],\"scatterternary\":[{\"type\":\"scatterternary\",\"marker\":{\"colorbar\":{\"outlinewidth\":0,\"ticks\":\"\"}}}],\"scattercarpet\":[{\"type\":\"scattercarpet\",\"marker\":{\"colorbar\":{\"outlinewidth\":0,\"ticks\":\"\"}}}],\"carpet\":[{\"aaxis\":{\"endlinecolor\":\"#2a3f5f\",\"gridcolor\":\"white\",\"linecolor\":\"white\",\"minorgridcolor\":\"white\",\"startlinecolor\":\"#2a3f5f\"},\"baxis\":{\"endlinecolor\":\"#2a3f5f\",\"gridcolor\":\"white\",\"linecolor\":\"white\",\"minorgridcolor\":\"white\",\"startlinecolor\":\"#2a3f5f\"},\"type\":\"carpet\"}],\"table\":[{\"cells\":{\"fill\":{\"color\":\"#EBF0F8\"},\"line\":{\"color\":\"white\"}},\"header\":{\"fill\":{\"color\":\"#C8D4E3\"},\"line\":{\"color\":\"white\"}},\"type\":\"table\"}],\"barpolar\":[{\"marker\":{\"line\":{\"color\":\"#E5ECF6\",\"width\":0.5},\"pattern\":{\"fillmode\":\"overlay\",\"size\":10,\"solidity\":0.2}},\"type\":\"barpolar\"}],\"pie\":[{\"automargin\":true,\"type\":\"pie\"}]},\"layout\":{\"autotypenumbers\":\"strict\",\"colorway\":[\"#636efa\",\"#EF553B\",\"#00cc96\",\"#ab63fa\",\"#FFA15A\",\"#19d3f3\",\"#FF6692\",\"#B6E880\",\"#FF97FF\",\"#FECB52\"],\"font\":{\"color\":\"#2a3f5f\"},\"hovermode\":\"closest\",\"hoverlabel\":{\"align\":\"left\"},\"paper_bgcolor\":\"white\",\"plot_bgcolor\":\"#E5ECF6\",\"polar\":{\"bgcolor\":\"#E5ECF6\",\"angularaxis\":{\"gridcolor\":\"white\",\"linecolor\":\"white\",\"ticks\":\"\"},\"radialaxis\":{\"gridcolor\":\"white\",\"linecolor\":\"white\",\"ticks\":\"\"}},\"ternary\":{\"bgcolor\":\"#E5ECF6\",\"aaxis\":{\"gridcolor\":\"white\",\"linecolor\":\"white\",\"ticks\":\"\"},\"baxis\":{\"gridcolor\":\"white\",\"linecolor\":\"white\",\"ticks\":\"\"},\"caxis\":{\"gridcolor\":\"white\",\"linecolor\":\"white\",\"ticks\":\"\"}},\"coloraxis\":{\"colorbar\":{\"outlinewidth\":0,\"ticks\":\"\"}},\"colorscale\":{\"sequential\":[[0.0,\"#0d0887\"],[0.1111111111111111,\"#46039f\"],[0.2222222222222222,\"#7201a8\"],[0.3333333333333333,\"#9c179e\"],[0.4444444444444444,\"#bd3786\"],[0.5555555555555556,\"#d8576b\"],[0.6666666666666666,\"#ed7953\"],[0.7777777777777778,\"#fb9f3a\"],[0.8888888888888888,\"#fdca26\"],[1.0,\"#f0f921\"]],\"sequentialminus\":[[0.0,\"#0d0887\"],[0.1111111111111111,\"#46039f\"],[0.2222222222222222,\"#7201a8\"],[0.3333333333333333,\"#9c179e\"],[0.4444444444444444,\"#bd3786\"],[0.5555555555555556,\"#d8576b\"],[0.6666666666666666,\"#ed7953\"],[0.7777777777777778,\"#fb9f3a\"],[0.8888888888888888,\"#fdca26\"],[1.0,\"#f0f921\"]],\"diverging\":[[0,\"#8e0152\"],[0.1,\"#c51b7d\"],[0.2,\"#de77ae\"],[0.3,\"#f1b6da\"],[0.4,\"#fde0ef\"],[0.5,\"#f7f7f7\"],[0.6,\"#e6f5d0\"],[0.7,\"#b8e186\"],[0.8,\"#7fbc41\"],[0.9,\"#4d9221\"],[1,\"#276419\"]]},\"xaxis\":{\"gridcolor\":\"white\",\"linecolor\":\"white\",\"ticks\":\"\",\"title\":{\"standoff\":15},\"zerolinecolor\":\"white\",\"automargin\":true,\"zerolinewidth\":2},\"yaxis\":{\"gridcolor\":\"white\",\"linecolor\":\"white\",\"ticks\":\"\",\"title\":{\"standoff\":15},\"zerolinecolor\":\"white\",\"automargin\":true,\"zerolinewidth\":2},\"scene\":{\"xaxis\":{\"backgroundcolor\":\"#E5ECF6\",\"gridcolor\":\"white\",\"linecolor\":\"white\",\"showbackground\":true,\"ticks\":\"\",\"zerolinecolor\":\"white\",\"gridwidth\":2},\"yaxis\":{\"backgroundcolor\":\"#E5ECF6\",\"gridcolor\":\"white\",\"linecolor\":\"white\",\"showbackground\":true,\"ticks\":\"\",\"zerolinecolor\":\"white\",\"gridwidth\":2},\"zaxis\":{\"backgroundcolor\":\"#E5ECF6\",\"gridcolor\":\"white\",\"linecolor\":\"white\",\"showbackground\":true,\"ticks\":\"\",\"zerolinecolor\":\"white\",\"gridwidth\":2}},\"shapedefaults\":{\"line\":{\"color\":\"#2a3f5f\"}},\"annotationdefaults\":{\"arrowcolor\":\"#2a3f5f\",\"arrowhead\":0,\"arrowwidth\":1},\"geo\":{\"bgcolor\":\"white\",\"landcolor\":\"#E5ECF6\",\"subunitcolor\":\"white\",\"showland\":true,\"showlakes\":true,\"lakecolor\":\"white\"},\"title\":{\"x\":0.05},\"mapbox\":{\"style\":\"light\"}}}},                        {\"responsive\": true}                    ).then(function(){\n",
              "                            \n",
              "var gd = document.getElementById('715ae320-595d-402a-ad9f-bdc77aca099c');\n",
              "var x = new MutationObserver(function (mutations, observer) {{\n",
              "        var display = window.getComputedStyle(gd).display;\n",
              "        if (!display || display === 'none') {{\n",
              "            console.log([gd, 'removed!']);\n",
              "            Plotly.purge(gd);\n",
              "            observer.disconnect();\n",
              "        }}\n",
              "}});\n",
              "\n",
              "// Listen for the removal of the full notebook cells\n",
              "var notebookContainer = gd.closest('#notebook-container');\n",
              "if (notebookContainer) {{\n",
              "    x.observe(notebookContainer, {childList: true});\n",
              "}}\n",
              "\n",
              "// Listen for the clearing of the current output cell\n",
              "var outputEl = gd.closest('.output');\n",
              "if (outputEl) {{\n",
              "    x.observe(outputEl, {childList: true});\n",
              "}}\n",
              "\n",
              "                        })                };                            </script>        </div>\n",
              "</body>\n",
              "</html>"
            ]
          },
          "metadata": {}
        }
      ]
    },
    {
      "cell_type": "code",
      "source": [
        "ratings_df"
      ],
      "metadata": {
        "colab": {
          "base_uri": "https://localhost:8080/",
          "height": 424
        },
        "id": "u9n0hEY_V9WC",
        "outputId": "d1fc6122-b13d-4304-ac36-79813626faea"
      },
      "execution_count": null,
      "outputs": [
        {
          "output_type": "execute_result",
          "data": {
            "text/plain": [
              "        userId  movieId  rating\n",
              "0            1        1     4.0\n",
              "1            1        3     4.0\n",
              "2            1        6     4.0\n",
              "3            1       47     5.0\n",
              "4            1       50     5.0\n",
              "...        ...      ...     ...\n",
              "100831     610   166534     4.0\n",
              "100832     610   168248     5.0\n",
              "100833     610   168250     5.0\n",
              "100834     610   168252     5.0\n",
              "100835     610   170875     3.0\n",
              "\n",
              "[100836 rows x 3 columns]"
            ],
            "text/html": [
              "\n",
              "  <div id=\"df-a06524e2-7701-461b-aaf0-eae66c9179cf\">\n",
              "    <div class=\"colab-df-container\">\n",
              "      <div>\n",
              "<style scoped>\n",
              "    .dataframe tbody tr th:only-of-type {\n",
              "        vertical-align: middle;\n",
              "    }\n",
              "\n",
              "    .dataframe tbody tr th {\n",
              "        vertical-align: top;\n",
              "    }\n",
              "\n",
              "    .dataframe thead th {\n",
              "        text-align: right;\n",
              "    }\n",
              "</style>\n",
              "<table border=\"1\" class=\"dataframe\">\n",
              "  <thead>\n",
              "    <tr style=\"text-align: right;\">\n",
              "      <th></th>\n",
              "      <th>userId</th>\n",
              "      <th>movieId</th>\n",
              "      <th>rating</th>\n",
              "    </tr>\n",
              "  </thead>\n",
              "  <tbody>\n",
              "    <tr>\n",
              "      <th>0</th>\n",
              "      <td>1</td>\n",
              "      <td>1</td>\n",
              "      <td>4.0</td>\n",
              "    </tr>\n",
              "    <tr>\n",
              "      <th>1</th>\n",
              "      <td>1</td>\n",
              "      <td>3</td>\n",
              "      <td>4.0</td>\n",
              "    </tr>\n",
              "    <tr>\n",
              "      <th>2</th>\n",
              "      <td>1</td>\n",
              "      <td>6</td>\n",
              "      <td>4.0</td>\n",
              "    </tr>\n",
              "    <tr>\n",
              "      <th>3</th>\n",
              "      <td>1</td>\n",
              "      <td>47</td>\n",
              "      <td>5.0</td>\n",
              "    </tr>\n",
              "    <tr>\n",
              "      <th>4</th>\n",
              "      <td>1</td>\n",
              "      <td>50</td>\n",
              "      <td>5.0</td>\n",
              "    </tr>\n",
              "    <tr>\n",
              "      <th>...</th>\n",
              "      <td>...</td>\n",
              "      <td>...</td>\n",
              "      <td>...</td>\n",
              "    </tr>\n",
              "    <tr>\n",
              "      <th>100831</th>\n",
              "      <td>610</td>\n",
              "      <td>166534</td>\n",
              "      <td>4.0</td>\n",
              "    </tr>\n",
              "    <tr>\n",
              "      <th>100832</th>\n",
              "      <td>610</td>\n",
              "      <td>168248</td>\n",
              "      <td>5.0</td>\n",
              "    </tr>\n",
              "    <tr>\n",
              "      <th>100833</th>\n",
              "      <td>610</td>\n",
              "      <td>168250</td>\n",
              "      <td>5.0</td>\n",
              "    </tr>\n",
              "    <tr>\n",
              "      <th>100834</th>\n",
              "      <td>610</td>\n",
              "      <td>168252</td>\n",
              "      <td>5.0</td>\n",
              "    </tr>\n",
              "    <tr>\n",
              "      <th>100835</th>\n",
              "      <td>610</td>\n",
              "      <td>170875</td>\n",
              "      <td>3.0</td>\n",
              "    </tr>\n",
              "  </tbody>\n",
              "</table>\n",
              "<p>100836 rows × 3 columns</p>\n",
              "</div>\n",
              "      <button class=\"colab-df-convert\" onclick=\"convertToInteractive('df-a06524e2-7701-461b-aaf0-eae66c9179cf')\"\n",
              "              title=\"Convert this dataframe to an interactive table.\"\n",
              "              style=\"display:none;\">\n",
              "        \n",
              "  <svg xmlns=\"http://www.w3.org/2000/svg\" height=\"24px\"viewBox=\"0 0 24 24\"\n",
              "       width=\"24px\">\n",
              "    <path d=\"M0 0h24v24H0V0z\" fill=\"none\"/>\n",
              "    <path d=\"M18.56 5.44l.94 2.06.94-2.06 2.06-.94-2.06-.94-.94-2.06-.94 2.06-2.06.94zm-11 1L8.5 8.5l.94-2.06 2.06-.94-2.06-.94L8.5 2.5l-.94 2.06-2.06.94zm10 10l.94 2.06.94-2.06 2.06-.94-2.06-.94-.94-2.06-.94 2.06-2.06.94z\"/><path d=\"M17.41 7.96l-1.37-1.37c-.4-.4-.92-.59-1.43-.59-.52 0-1.04.2-1.43.59L10.3 9.45l-7.72 7.72c-.78.78-.78 2.05 0 2.83L4 21.41c.39.39.9.59 1.41.59.51 0 1.02-.2 1.41-.59l7.78-7.78 2.81-2.81c.8-.78.8-2.07 0-2.86zM5.41 20L4 18.59l7.72-7.72 1.47 1.35L5.41 20z\"/>\n",
              "  </svg>\n",
              "      </button>\n",
              "      \n",
              "  <style>\n",
              "    .colab-df-container {\n",
              "      display:flex;\n",
              "      flex-wrap:wrap;\n",
              "      gap: 12px;\n",
              "    }\n",
              "\n",
              "    .colab-df-convert {\n",
              "      background-color: #E8F0FE;\n",
              "      border: none;\n",
              "      border-radius: 50%;\n",
              "      cursor: pointer;\n",
              "      display: none;\n",
              "      fill: #1967D2;\n",
              "      height: 32px;\n",
              "      padding: 0 0 0 0;\n",
              "      width: 32px;\n",
              "    }\n",
              "\n",
              "    .colab-df-convert:hover {\n",
              "      background-color: #E2EBFA;\n",
              "      box-shadow: 0px 1px 2px rgba(60, 64, 67, 0.3), 0px 1px 3px 1px rgba(60, 64, 67, 0.15);\n",
              "      fill: #174EA6;\n",
              "    }\n",
              "\n",
              "    [theme=dark] .colab-df-convert {\n",
              "      background-color: #3B4455;\n",
              "      fill: #D2E3FC;\n",
              "    }\n",
              "\n",
              "    [theme=dark] .colab-df-convert:hover {\n",
              "      background-color: #434B5C;\n",
              "      box-shadow: 0px 1px 3px 1px rgba(0, 0, 0, 0.15);\n",
              "      filter: drop-shadow(0px 1px 2px rgba(0, 0, 0, 0.3));\n",
              "      fill: #FFFFFF;\n",
              "    }\n",
              "  </style>\n",
              "\n",
              "      <script>\n",
              "        const buttonEl =\n",
              "          document.querySelector('#df-a06524e2-7701-461b-aaf0-eae66c9179cf button.colab-df-convert');\n",
              "        buttonEl.style.display =\n",
              "          google.colab.kernel.accessAllowed ? 'block' : 'none';\n",
              "\n",
              "        async function convertToInteractive(key) {\n",
              "          const element = document.querySelector('#df-a06524e2-7701-461b-aaf0-eae66c9179cf');\n",
              "          const dataTable =\n",
              "            await google.colab.kernel.invokeFunction('convertToInteractive',\n",
              "                                                     [key], {});\n",
              "          if (!dataTable) return;\n",
              "\n",
              "          const docLinkHtml = 'Like what you see? Visit the ' +\n",
              "            '<a target=\"_blank\" href=https://colab.research.google.com/notebooks/data_table.ipynb>data table notebook</a>'\n",
              "            + ' to learn more about interactive tables.';\n",
              "          element.innerHTML = '';\n",
              "          dataTable['output_type'] = 'display_data';\n",
              "          await google.colab.output.renderOutput(dataTable, element);\n",
              "          const docLink = document.createElement('div');\n",
              "          docLink.innerHTML = docLinkHtml;\n",
              "          element.appendChild(docLink);\n",
              "        }\n",
              "      </script>\n",
              "    </div>\n",
              "  </div>\n",
              "  "
            ]
          },
          "metadata": {},
          "execution_count": 16
        }
      ]
    },
    {
      "cell_type": "code",
      "source": [
        "# Group by 'movieId', and count of the 'rating' column. Then reset_index() starts counting from 0 to 9723. Sort in descending\n",
        "# order and display the first 15 rows\n",
        "ratings_df.groupby('movieId')['rating'].count().reset_index().sort_values('rating', ascending=False)[:15]"
      ],
      "metadata": {
        "colab": {
          "base_uri": "https://localhost:8080/",
          "height": 520
        },
        "id": "b436zrrNWF0O",
        "outputId": "e1bc690b-6e25-4a15-876a-bb1c394f173a"
      },
      "execution_count": null,
      "outputs": [
        {
          "output_type": "execute_result",
          "data": {
            "text/plain": [
              "      movieId  rating\n",
              "314       356     329\n",
              "277       318     317\n",
              "257       296     307\n",
              "510       593     279\n",
              "1938     2571     278\n",
              "224       260     251\n",
              "418       480     238\n",
              "97        110     237\n",
              "507       589     224\n",
              "461       527     220\n",
              "2224     2959     218\n",
              "0           1     215\n",
              "897      1196     211\n",
              "46         50     204\n",
              "2144     2858     204"
            ],
            "text/html": [
              "\n",
              "  <div id=\"df-2b016bf8-c046-4a39-b0d3-8a4c1bd2bf0c\">\n",
              "    <div class=\"colab-df-container\">\n",
              "      <div>\n",
              "<style scoped>\n",
              "    .dataframe tbody tr th:only-of-type {\n",
              "        vertical-align: middle;\n",
              "    }\n",
              "\n",
              "    .dataframe tbody tr th {\n",
              "        vertical-align: top;\n",
              "    }\n",
              "\n",
              "    .dataframe thead th {\n",
              "        text-align: right;\n",
              "    }\n",
              "</style>\n",
              "<table border=\"1\" class=\"dataframe\">\n",
              "  <thead>\n",
              "    <tr style=\"text-align: right;\">\n",
              "      <th></th>\n",
              "      <th>movieId</th>\n",
              "      <th>rating</th>\n",
              "    </tr>\n",
              "  </thead>\n",
              "  <tbody>\n",
              "    <tr>\n",
              "      <th>314</th>\n",
              "      <td>356</td>\n",
              "      <td>329</td>\n",
              "    </tr>\n",
              "    <tr>\n",
              "      <th>277</th>\n",
              "      <td>318</td>\n",
              "      <td>317</td>\n",
              "    </tr>\n",
              "    <tr>\n",
              "      <th>257</th>\n",
              "      <td>296</td>\n",
              "      <td>307</td>\n",
              "    </tr>\n",
              "    <tr>\n",
              "      <th>510</th>\n",
              "      <td>593</td>\n",
              "      <td>279</td>\n",
              "    </tr>\n",
              "    <tr>\n",
              "      <th>1938</th>\n",
              "      <td>2571</td>\n",
              "      <td>278</td>\n",
              "    </tr>\n",
              "    <tr>\n",
              "      <th>224</th>\n",
              "      <td>260</td>\n",
              "      <td>251</td>\n",
              "    </tr>\n",
              "    <tr>\n",
              "      <th>418</th>\n",
              "      <td>480</td>\n",
              "      <td>238</td>\n",
              "    </tr>\n",
              "    <tr>\n",
              "      <th>97</th>\n",
              "      <td>110</td>\n",
              "      <td>237</td>\n",
              "    </tr>\n",
              "    <tr>\n",
              "      <th>507</th>\n",
              "      <td>589</td>\n",
              "      <td>224</td>\n",
              "    </tr>\n",
              "    <tr>\n",
              "      <th>461</th>\n",
              "      <td>527</td>\n",
              "      <td>220</td>\n",
              "    </tr>\n",
              "    <tr>\n",
              "      <th>2224</th>\n",
              "      <td>2959</td>\n",
              "      <td>218</td>\n",
              "    </tr>\n",
              "    <tr>\n",
              "      <th>0</th>\n",
              "      <td>1</td>\n",
              "      <td>215</td>\n",
              "    </tr>\n",
              "    <tr>\n",
              "      <th>897</th>\n",
              "      <td>1196</td>\n",
              "      <td>211</td>\n",
              "    </tr>\n",
              "    <tr>\n",
              "      <th>46</th>\n",
              "      <td>50</td>\n",
              "      <td>204</td>\n",
              "    </tr>\n",
              "    <tr>\n",
              "      <th>2144</th>\n",
              "      <td>2858</td>\n",
              "      <td>204</td>\n",
              "    </tr>\n",
              "  </tbody>\n",
              "</table>\n",
              "</div>\n",
              "      <button class=\"colab-df-convert\" onclick=\"convertToInteractive('df-2b016bf8-c046-4a39-b0d3-8a4c1bd2bf0c')\"\n",
              "              title=\"Convert this dataframe to an interactive table.\"\n",
              "              style=\"display:none;\">\n",
              "        \n",
              "  <svg xmlns=\"http://www.w3.org/2000/svg\" height=\"24px\"viewBox=\"0 0 24 24\"\n",
              "       width=\"24px\">\n",
              "    <path d=\"M0 0h24v24H0V0z\" fill=\"none\"/>\n",
              "    <path d=\"M18.56 5.44l.94 2.06.94-2.06 2.06-.94-2.06-.94-.94-2.06-.94 2.06-2.06.94zm-11 1L8.5 8.5l.94-2.06 2.06-.94-2.06-.94L8.5 2.5l-.94 2.06-2.06.94zm10 10l.94 2.06.94-2.06 2.06-.94-2.06-.94-.94-2.06-.94 2.06-2.06.94z\"/><path d=\"M17.41 7.96l-1.37-1.37c-.4-.4-.92-.59-1.43-.59-.52 0-1.04.2-1.43.59L10.3 9.45l-7.72 7.72c-.78.78-.78 2.05 0 2.83L4 21.41c.39.39.9.59 1.41.59.51 0 1.02-.2 1.41-.59l7.78-7.78 2.81-2.81c.8-.78.8-2.07 0-2.86zM5.41 20L4 18.59l7.72-7.72 1.47 1.35L5.41 20z\"/>\n",
              "  </svg>\n",
              "      </button>\n",
              "      \n",
              "  <style>\n",
              "    .colab-df-container {\n",
              "      display:flex;\n",
              "      flex-wrap:wrap;\n",
              "      gap: 12px;\n",
              "    }\n",
              "\n",
              "    .colab-df-convert {\n",
              "      background-color: #E8F0FE;\n",
              "      border: none;\n",
              "      border-radius: 50%;\n",
              "      cursor: pointer;\n",
              "      display: none;\n",
              "      fill: #1967D2;\n",
              "      height: 32px;\n",
              "      padding: 0 0 0 0;\n",
              "      width: 32px;\n",
              "    }\n",
              "\n",
              "    .colab-df-convert:hover {\n",
              "      background-color: #E2EBFA;\n",
              "      box-shadow: 0px 1px 2px rgba(60, 64, 67, 0.3), 0px 1px 3px 1px rgba(60, 64, 67, 0.15);\n",
              "      fill: #174EA6;\n",
              "    }\n",
              "\n",
              "    [theme=dark] .colab-df-convert {\n",
              "      background-color: #3B4455;\n",
              "      fill: #D2E3FC;\n",
              "    }\n",
              "\n",
              "    [theme=dark] .colab-df-convert:hover {\n",
              "      background-color: #434B5C;\n",
              "      box-shadow: 0px 1px 3px 1px rgba(0, 0, 0, 0.15);\n",
              "      filter: drop-shadow(0px 1px 2px rgba(0, 0, 0, 0.3));\n",
              "      fill: #FFFFFF;\n",
              "    }\n",
              "  </style>\n",
              "\n",
              "      <script>\n",
              "        const buttonEl =\n",
              "          document.querySelector('#df-2b016bf8-c046-4a39-b0d3-8a4c1bd2bf0c button.colab-df-convert');\n",
              "        buttonEl.style.display =\n",
              "          google.colab.kernel.accessAllowed ? 'block' : 'none';\n",
              "\n",
              "        async function convertToInteractive(key) {\n",
              "          const element = document.querySelector('#df-2b016bf8-c046-4a39-b0d3-8a4c1bd2bf0c');\n",
              "          const dataTable =\n",
              "            await google.colab.kernel.invokeFunction('convertToInteractive',\n",
              "                                                     [key], {});\n",
              "          if (!dataTable) return;\n",
              "\n",
              "          const docLinkHtml = 'Like what you see? Visit the ' +\n",
              "            '<a target=\"_blank\" href=https://colab.research.google.com/notebooks/data_table.ipynb>data table notebook</a>'\n",
              "            + ' to learn more about interactive tables.';\n",
              "          element.innerHTML = '';\n",
              "          dataTable['output_type'] = 'display_data';\n",
              "          await google.colab.output.renderOutput(dataTable, element);\n",
              "          const docLink = document.createElement('div');\n",
              "          docLink.innerHTML = docLinkHtml;\n",
              "          element.appendChild(docLink);\n",
              "        }\n",
              "      </script>\n",
              "    </div>\n",
              "  </div>\n",
              "  "
            ]
          },
          "metadata": {},
          "execution_count": 17
        }
      ]
    },
    {
      "cell_type": "markdown",
      "source": [
        "**Ratings Distribution by Users**"
      ],
      "metadata": {
        "id": "bgqrgNH5af0S"
      }
    },
    {
      "cell_type": "code",
      "source": [
        "# Group by 'userId' and clip (i.e. set upper limit) the ratings per user to be 50.\n",
        "data = ratings_df.groupby('userId')['rating'].count().clip(upper=50)"
      ],
      "metadata": {
        "id": "ZbxMvWBgam3U"
      },
      "execution_count": null,
      "outputs": []
    },
    {
      "cell_type": "code",
      "source": [
        "data"
      ],
      "metadata": {
        "colab": {
          "base_uri": "https://localhost:8080/"
        },
        "id": "h5X6eqPAa_QD",
        "outputId": "aff4417a-5382-4218-ffd1-50592ded0dcf"
      },
      "execution_count": null,
      "outputs": [
        {
          "output_type": "execute_result",
          "data": {
            "text/plain": [
              "userId\n",
              "1      50\n",
              "2      29\n",
              "3      39\n",
              "4      50\n",
              "5      44\n",
              "       ..\n",
              "606    50\n",
              "607    50\n",
              "608    50\n",
              "609    37\n",
              "610    50\n",
              "Name: rating, Length: 610, dtype: int64"
            ]
          },
          "metadata": {},
          "execution_count": 19
        }
      ]
    },
    {
      "cell_type": "code",
      "source": [
        "# Create histogram trace\n",
        "go.Histogram(x = data.values,\n",
        "               name = 'Ratings',\n",
        "               xbins = dict(start = 0,\n",
        "                              end = 50,\n",
        "                             size = 2))\n",
        "\n",
        "# Create layout\n",
        "layout = go.Layout(autosize = False,\n",
        "                   width = 1000,\n",
        "                   height = 1000,\n",
        "                   title = 'Distribution of Number of Ratings Per User (Clipped at 50)',\n",
        "                   xaxis = dict(title = 'Ratings Per User'),\n",
        "                   yaxis = dict(title = 'Count'),\n",
        "                   bargap = 0.2)\n",
        "\n",
        "# Create plot\n",
        "fig = go.Figure(data=[trace], layout=layout)\n",
        "fig.show()\n"
      ],
      "metadata": {
        "colab": {
          "base_uri": "https://localhost:8080/",
          "height": 1000
        },
        "id": "u3IHOnpAbAiZ",
        "outputId": "8625ce70-644c-4f9a-c70f-3c613427c279"
      },
      "execution_count": null,
      "outputs": [
        {
          "output_type": "display_data",
          "data": {
            "text/html": [
              "<html>\n",
              "<head><meta charset=\"utf-8\" /></head>\n",
              "<body>\n",
              "    <div>            <script src=\"https://cdnjs.cloudflare.com/ajax/libs/mathjax/2.7.5/MathJax.js?config=TeX-AMS-MML_SVG\"></script><script type=\"text/javascript\">if (window.MathJax && window.MathJax.Hub && window.MathJax.Hub.Config) {window.MathJax.Hub.Config({SVG: {font: \"STIX-Web\"}});}</script>                <script type=\"text/javascript\">window.PlotlyConfig = {MathJaxConfig: 'local'};</script>\n",
              "        <script src=\"https://cdn.plot.ly/plotly-2.18.2.min.js\"></script>                <div id=\"1692bcb7-0849-42a3-b349-818eb8ef5453\" class=\"plotly-graph-div\" style=\"height:1000px; width:1000px;\"></div>            <script type=\"text/javascript\">                                    window.PLOTLYENV=window.PLOTLYENV || {};                                    if (document.getElementById(\"1692bcb7-0849-42a3-b349-818eb8ef5453\")) {                    Plotly.newPlot(                        \"1692bcb7-0849-42a3-b349-818eb8ef5453\",                        [{\"text\":[\"13.1 %\",\"8.5 %\",\"26.6 %\",\"13.0 %\",\"19.9 %\",\"5.5 %\",\"7.5 %\",\"1.8 %\",\"2.8 %\",\"1.4 %\"],\"textfont\":{\"color\":\"aliceblue\",\"family\":\"Times New Roman\",\"size\":14},\"textposition\":\"auto\",\"x\":[5.0,4.5,4.0,3.5,3.0,2.5,2.0,1.5,1.0,0.5],\"y\":[13211,8551,26818,13136,20047,5550,7551,1791,2811,1370],\"type\":\"bar\"}],                        {\"autosize\":false,\"bargap\":0.2,\"height\":1000,\"title\":{\"text\":\"Distribution of Number of Ratings Per User (Clipped at 50)\"},\"width\":1000,\"xaxis\":{\"title\":{\"text\":\"Ratings Per User\"}},\"yaxis\":{\"title\":{\"text\":\"Count\"}},\"template\":{\"data\":{\"histogram2dcontour\":[{\"type\":\"histogram2dcontour\",\"colorbar\":{\"outlinewidth\":0,\"ticks\":\"\"},\"colorscale\":[[0.0,\"#0d0887\"],[0.1111111111111111,\"#46039f\"],[0.2222222222222222,\"#7201a8\"],[0.3333333333333333,\"#9c179e\"],[0.4444444444444444,\"#bd3786\"],[0.5555555555555556,\"#d8576b\"],[0.6666666666666666,\"#ed7953\"],[0.7777777777777778,\"#fb9f3a\"],[0.8888888888888888,\"#fdca26\"],[1.0,\"#f0f921\"]]}],\"choropleth\":[{\"type\":\"choropleth\",\"colorbar\":{\"outlinewidth\":0,\"ticks\":\"\"}}],\"histogram2d\":[{\"type\":\"histogram2d\",\"colorbar\":{\"outlinewidth\":0,\"ticks\":\"\"},\"colorscale\":[[0.0,\"#0d0887\"],[0.1111111111111111,\"#46039f\"],[0.2222222222222222,\"#7201a8\"],[0.3333333333333333,\"#9c179e\"],[0.4444444444444444,\"#bd3786\"],[0.5555555555555556,\"#d8576b\"],[0.6666666666666666,\"#ed7953\"],[0.7777777777777778,\"#fb9f3a\"],[0.8888888888888888,\"#fdca26\"],[1.0,\"#f0f921\"]]}],\"heatmap\":[{\"type\":\"heatmap\",\"colorbar\":{\"outlinewidth\":0,\"ticks\":\"\"},\"colorscale\":[[0.0,\"#0d0887\"],[0.1111111111111111,\"#46039f\"],[0.2222222222222222,\"#7201a8\"],[0.3333333333333333,\"#9c179e\"],[0.4444444444444444,\"#bd3786\"],[0.5555555555555556,\"#d8576b\"],[0.6666666666666666,\"#ed7953\"],[0.7777777777777778,\"#fb9f3a\"],[0.8888888888888888,\"#fdca26\"],[1.0,\"#f0f921\"]]}],\"heatmapgl\":[{\"type\":\"heatmapgl\",\"colorbar\":{\"outlinewidth\":0,\"ticks\":\"\"},\"colorscale\":[[0.0,\"#0d0887\"],[0.1111111111111111,\"#46039f\"],[0.2222222222222222,\"#7201a8\"],[0.3333333333333333,\"#9c179e\"],[0.4444444444444444,\"#bd3786\"],[0.5555555555555556,\"#d8576b\"],[0.6666666666666666,\"#ed7953\"],[0.7777777777777778,\"#fb9f3a\"],[0.8888888888888888,\"#fdca26\"],[1.0,\"#f0f921\"]]}],\"contourcarpet\":[{\"type\":\"contourcarpet\",\"colorbar\":{\"outlinewidth\":0,\"ticks\":\"\"}}],\"contour\":[{\"type\":\"contour\",\"colorbar\":{\"outlinewidth\":0,\"ticks\":\"\"},\"colorscale\":[[0.0,\"#0d0887\"],[0.1111111111111111,\"#46039f\"],[0.2222222222222222,\"#7201a8\"],[0.3333333333333333,\"#9c179e\"],[0.4444444444444444,\"#bd3786\"],[0.5555555555555556,\"#d8576b\"],[0.6666666666666666,\"#ed7953\"],[0.7777777777777778,\"#fb9f3a\"],[0.8888888888888888,\"#fdca26\"],[1.0,\"#f0f921\"]]}],\"surface\":[{\"type\":\"surface\",\"colorbar\":{\"outlinewidth\":0,\"ticks\":\"\"},\"colorscale\":[[0.0,\"#0d0887\"],[0.1111111111111111,\"#46039f\"],[0.2222222222222222,\"#7201a8\"],[0.3333333333333333,\"#9c179e\"],[0.4444444444444444,\"#bd3786\"],[0.5555555555555556,\"#d8576b\"],[0.6666666666666666,\"#ed7953\"],[0.7777777777777778,\"#fb9f3a\"],[0.8888888888888888,\"#fdca26\"],[1.0,\"#f0f921\"]]}],\"mesh3d\":[{\"type\":\"mesh3d\",\"colorbar\":{\"outlinewidth\":0,\"ticks\":\"\"}}],\"scatter\":[{\"fillpattern\":{\"fillmode\":\"overlay\",\"size\":10,\"solidity\":0.2},\"type\":\"scatter\"}],\"parcoords\":[{\"type\":\"parcoords\",\"line\":{\"colorbar\":{\"outlinewidth\":0,\"ticks\":\"\"}}}],\"scatterpolargl\":[{\"type\":\"scatterpolargl\",\"marker\":{\"colorbar\":{\"outlinewidth\":0,\"ticks\":\"\"}}}],\"bar\":[{\"error_x\":{\"color\":\"#2a3f5f\"},\"error_y\":{\"color\":\"#2a3f5f\"},\"marker\":{\"line\":{\"color\":\"#E5ECF6\",\"width\":0.5},\"pattern\":{\"fillmode\":\"overlay\",\"size\":10,\"solidity\":0.2}},\"type\":\"bar\"}],\"scattergeo\":[{\"type\":\"scattergeo\",\"marker\":{\"colorbar\":{\"outlinewidth\":0,\"ticks\":\"\"}}}],\"scatterpolar\":[{\"type\":\"scatterpolar\",\"marker\":{\"colorbar\":{\"outlinewidth\":0,\"ticks\":\"\"}}}],\"histogram\":[{\"marker\":{\"pattern\":{\"fillmode\":\"overlay\",\"size\":10,\"solidity\":0.2}},\"type\":\"histogram\"}],\"scattergl\":[{\"type\":\"scattergl\",\"marker\":{\"colorbar\":{\"outlinewidth\":0,\"ticks\":\"\"}}}],\"scatter3d\":[{\"type\":\"scatter3d\",\"line\":{\"colorbar\":{\"outlinewidth\":0,\"ticks\":\"\"}},\"marker\":{\"colorbar\":{\"outlinewidth\":0,\"ticks\":\"\"}}}],\"scattermapbox\":[{\"type\":\"scattermapbox\",\"marker\":{\"colorbar\":{\"outlinewidth\":0,\"ticks\":\"\"}}}],\"scatterternary\":[{\"type\":\"scatterternary\",\"marker\":{\"colorbar\":{\"outlinewidth\":0,\"ticks\":\"\"}}}],\"scattercarpet\":[{\"type\":\"scattercarpet\",\"marker\":{\"colorbar\":{\"outlinewidth\":0,\"ticks\":\"\"}}}],\"carpet\":[{\"aaxis\":{\"endlinecolor\":\"#2a3f5f\",\"gridcolor\":\"white\",\"linecolor\":\"white\",\"minorgridcolor\":\"white\",\"startlinecolor\":\"#2a3f5f\"},\"baxis\":{\"endlinecolor\":\"#2a3f5f\",\"gridcolor\":\"white\",\"linecolor\":\"white\",\"minorgridcolor\":\"white\",\"startlinecolor\":\"#2a3f5f\"},\"type\":\"carpet\"}],\"table\":[{\"cells\":{\"fill\":{\"color\":\"#EBF0F8\"},\"line\":{\"color\":\"white\"}},\"header\":{\"fill\":{\"color\":\"#C8D4E3\"},\"line\":{\"color\":\"white\"}},\"type\":\"table\"}],\"barpolar\":[{\"marker\":{\"line\":{\"color\":\"#E5ECF6\",\"width\":0.5},\"pattern\":{\"fillmode\":\"overlay\",\"size\":10,\"solidity\":0.2}},\"type\":\"barpolar\"}],\"pie\":[{\"automargin\":true,\"type\":\"pie\"}]},\"layout\":{\"autotypenumbers\":\"strict\",\"colorway\":[\"#636efa\",\"#EF553B\",\"#00cc96\",\"#ab63fa\",\"#FFA15A\",\"#19d3f3\",\"#FF6692\",\"#B6E880\",\"#FF97FF\",\"#FECB52\"],\"font\":{\"color\":\"#2a3f5f\"},\"hovermode\":\"closest\",\"hoverlabel\":{\"align\":\"left\"},\"paper_bgcolor\":\"white\",\"plot_bgcolor\":\"#E5ECF6\",\"polar\":{\"bgcolor\":\"#E5ECF6\",\"angularaxis\":{\"gridcolor\":\"white\",\"linecolor\":\"white\",\"ticks\":\"\"},\"radialaxis\":{\"gridcolor\":\"white\",\"linecolor\":\"white\",\"ticks\":\"\"}},\"ternary\":{\"bgcolor\":\"#E5ECF6\",\"aaxis\":{\"gridcolor\":\"white\",\"linecolor\":\"white\",\"ticks\":\"\"},\"baxis\":{\"gridcolor\":\"white\",\"linecolor\":\"white\",\"ticks\":\"\"},\"caxis\":{\"gridcolor\":\"white\",\"linecolor\":\"white\",\"ticks\":\"\"}},\"coloraxis\":{\"colorbar\":{\"outlinewidth\":0,\"ticks\":\"\"}},\"colorscale\":{\"sequential\":[[0.0,\"#0d0887\"],[0.1111111111111111,\"#46039f\"],[0.2222222222222222,\"#7201a8\"],[0.3333333333333333,\"#9c179e\"],[0.4444444444444444,\"#bd3786\"],[0.5555555555555556,\"#d8576b\"],[0.6666666666666666,\"#ed7953\"],[0.7777777777777778,\"#fb9f3a\"],[0.8888888888888888,\"#fdca26\"],[1.0,\"#f0f921\"]],\"sequentialminus\":[[0.0,\"#0d0887\"],[0.1111111111111111,\"#46039f\"],[0.2222222222222222,\"#7201a8\"],[0.3333333333333333,\"#9c179e\"],[0.4444444444444444,\"#bd3786\"],[0.5555555555555556,\"#d8576b\"],[0.6666666666666666,\"#ed7953\"],[0.7777777777777778,\"#fb9f3a\"],[0.8888888888888888,\"#fdca26\"],[1.0,\"#f0f921\"]],\"diverging\":[[0,\"#8e0152\"],[0.1,\"#c51b7d\"],[0.2,\"#de77ae\"],[0.3,\"#f1b6da\"],[0.4,\"#fde0ef\"],[0.5,\"#f7f7f7\"],[0.6,\"#e6f5d0\"],[0.7,\"#b8e186\"],[0.8,\"#7fbc41\"],[0.9,\"#4d9221\"],[1,\"#276419\"]]},\"xaxis\":{\"gridcolor\":\"white\",\"linecolor\":\"white\",\"ticks\":\"\",\"title\":{\"standoff\":15},\"zerolinecolor\":\"white\",\"automargin\":true,\"zerolinewidth\":2},\"yaxis\":{\"gridcolor\":\"white\",\"linecolor\":\"white\",\"ticks\":\"\",\"title\":{\"standoff\":15},\"zerolinecolor\":\"white\",\"automargin\":true,\"zerolinewidth\":2},\"scene\":{\"xaxis\":{\"backgroundcolor\":\"#E5ECF6\",\"gridcolor\":\"white\",\"linecolor\":\"white\",\"showbackground\":true,\"ticks\":\"\",\"zerolinecolor\":\"white\",\"gridwidth\":2},\"yaxis\":{\"backgroundcolor\":\"#E5ECF6\",\"gridcolor\":\"white\",\"linecolor\":\"white\",\"showbackground\":true,\"ticks\":\"\",\"zerolinecolor\":\"white\",\"gridwidth\":2},\"zaxis\":{\"backgroundcolor\":\"#E5ECF6\",\"gridcolor\":\"white\",\"linecolor\":\"white\",\"showbackground\":true,\"ticks\":\"\",\"zerolinecolor\":\"white\",\"gridwidth\":2}},\"shapedefaults\":{\"line\":{\"color\":\"#2a3f5f\"}},\"annotationdefaults\":{\"arrowcolor\":\"#2a3f5f\",\"arrowhead\":0,\"arrowwidth\":1},\"geo\":{\"bgcolor\":\"white\",\"landcolor\":\"#E5ECF6\",\"subunitcolor\":\"white\",\"showland\":true,\"showlakes\":true,\"lakecolor\":\"white\"},\"title\":{\"x\":0.05},\"mapbox\":{\"style\":\"light\"}}}},                        {\"responsive\": true}                    ).then(function(){\n",
              "                            \n",
              "var gd = document.getElementById('1692bcb7-0849-42a3-b349-818eb8ef5453');\n",
              "var x = new MutationObserver(function (mutations, observer) {{\n",
              "        var display = window.getComputedStyle(gd).display;\n",
              "        if (!display || display === 'none') {{\n",
              "            console.log([gd, 'removed!']);\n",
              "            Plotly.purge(gd);\n",
              "            observer.disconnect();\n",
              "        }}\n",
              "}});\n",
              "\n",
              "// Listen for the removal of the full notebook cells\n",
              "var notebookContainer = gd.closest('#notebook-container');\n",
              "if (notebookContainer) {{\n",
              "    x.observe(notebookContainer, {childList: true});\n",
              "}}\n",
              "\n",
              "// Listen for the clearing of the current output cell\n",
              "var outputEl = gd.closest('.output');\n",
              "if (outputEl) {{\n",
              "    x.observe(outputEl, {childList: true});\n",
              "}}\n",
              "\n",
              "                        })                };                            </script>        </div>\n",
              "</body>\n",
              "</html>"
            ]
          },
          "metadata": {}
        }
      ]
    },
    {
      "cell_type": "code",
      "source": [
        "ratings_df.groupby('userId')['rating'].count().reset_index().sort_values('rating', ascending=False)[:10]"
      ],
      "metadata": {
        "colab": {
          "base_uri": "https://localhost:8080/",
          "height": 363
        },
        "id": "LwJ9rDz9bzQ-",
        "outputId": "feebed85-7c8b-4210-99d5-2230204afd41"
      },
      "execution_count": null,
      "outputs": [
        {
          "output_type": "execute_result",
          "data": {
            "text/plain": [
              "     userId  rating\n",
              "413     414    2698\n",
              "598     599    2478\n",
              "473     474    2108\n",
              "447     448    1864\n",
              "273     274    1346\n",
              "609     610    1302\n",
              "67       68    1260\n",
              "379     380    1218\n",
              "605     606    1115\n",
              "287     288    1055"
            ],
            "text/html": [
              "\n",
              "  <div id=\"df-a1091201-aebb-4409-ae6d-2530cfb8851c\">\n",
              "    <div class=\"colab-df-container\">\n",
              "      <div>\n",
              "<style scoped>\n",
              "    .dataframe tbody tr th:only-of-type {\n",
              "        vertical-align: middle;\n",
              "    }\n",
              "\n",
              "    .dataframe tbody tr th {\n",
              "        vertical-align: top;\n",
              "    }\n",
              "\n",
              "    .dataframe thead th {\n",
              "        text-align: right;\n",
              "    }\n",
              "</style>\n",
              "<table border=\"1\" class=\"dataframe\">\n",
              "  <thead>\n",
              "    <tr style=\"text-align: right;\">\n",
              "      <th></th>\n",
              "      <th>userId</th>\n",
              "      <th>rating</th>\n",
              "    </tr>\n",
              "  </thead>\n",
              "  <tbody>\n",
              "    <tr>\n",
              "      <th>413</th>\n",
              "      <td>414</td>\n",
              "      <td>2698</td>\n",
              "    </tr>\n",
              "    <tr>\n",
              "      <th>598</th>\n",
              "      <td>599</td>\n",
              "      <td>2478</td>\n",
              "    </tr>\n",
              "    <tr>\n",
              "      <th>473</th>\n",
              "      <td>474</td>\n",
              "      <td>2108</td>\n",
              "    </tr>\n",
              "    <tr>\n",
              "      <th>447</th>\n",
              "      <td>448</td>\n",
              "      <td>1864</td>\n",
              "    </tr>\n",
              "    <tr>\n",
              "      <th>273</th>\n",
              "      <td>274</td>\n",
              "      <td>1346</td>\n",
              "    </tr>\n",
              "    <tr>\n",
              "      <th>609</th>\n",
              "      <td>610</td>\n",
              "      <td>1302</td>\n",
              "    </tr>\n",
              "    <tr>\n",
              "      <th>67</th>\n",
              "      <td>68</td>\n",
              "      <td>1260</td>\n",
              "    </tr>\n",
              "    <tr>\n",
              "      <th>379</th>\n",
              "      <td>380</td>\n",
              "      <td>1218</td>\n",
              "    </tr>\n",
              "    <tr>\n",
              "      <th>605</th>\n",
              "      <td>606</td>\n",
              "      <td>1115</td>\n",
              "    </tr>\n",
              "    <tr>\n",
              "      <th>287</th>\n",
              "      <td>288</td>\n",
              "      <td>1055</td>\n",
              "    </tr>\n",
              "  </tbody>\n",
              "</table>\n",
              "</div>\n",
              "      <button class=\"colab-df-convert\" onclick=\"convertToInteractive('df-a1091201-aebb-4409-ae6d-2530cfb8851c')\"\n",
              "              title=\"Convert this dataframe to an interactive table.\"\n",
              "              style=\"display:none;\">\n",
              "        \n",
              "  <svg xmlns=\"http://www.w3.org/2000/svg\" height=\"24px\"viewBox=\"0 0 24 24\"\n",
              "       width=\"24px\">\n",
              "    <path d=\"M0 0h24v24H0V0z\" fill=\"none\"/>\n",
              "    <path d=\"M18.56 5.44l.94 2.06.94-2.06 2.06-.94-2.06-.94-.94-2.06-.94 2.06-2.06.94zm-11 1L8.5 8.5l.94-2.06 2.06-.94-2.06-.94L8.5 2.5l-.94 2.06-2.06.94zm10 10l.94 2.06.94-2.06 2.06-.94-2.06-.94-.94-2.06-.94 2.06-2.06.94z\"/><path d=\"M17.41 7.96l-1.37-1.37c-.4-.4-.92-.59-1.43-.59-.52 0-1.04.2-1.43.59L10.3 9.45l-7.72 7.72c-.78.78-.78 2.05 0 2.83L4 21.41c.39.39.9.59 1.41.59.51 0 1.02-.2 1.41-.59l7.78-7.78 2.81-2.81c.8-.78.8-2.07 0-2.86zM5.41 20L4 18.59l7.72-7.72 1.47 1.35L5.41 20z\"/>\n",
              "  </svg>\n",
              "      </button>\n",
              "      \n",
              "  <style>\n",
              "    .colab-df-container {\n",
              "      display:flex;\n",
              "      flex-wrap:wrap;\n",
              "      gap: 12px;\n",
              "    }\n",
              "\n",
              "    .colab-df-convert {\n",
              "      background-color: #E8F0FE;\n",
              "      border: none;\n",
              "      border-radius: 50%;\n",
              "      cursor: pointer;\n",
              "      display: none;\n",
              "      fill: #1967D2;\n",
              "      height: 32px;\n",
              "      padding: 0 0 0 0;\n",
              "      width: 32px;\n",
              "    }\n",
              "\n",
              "    .colab-df-convert:hover {\n",
              "      background-color: #E2EBFA;\n",
              "      box-shadow: 0px 1px 2px rgba(60, 64, 67, 0.3), 0px 1px 3px 1px rgba(60, 64, 67, 0.15);\n",
              "      fill: #174EA6;\n",
              "    }\n",
              "\n",
              "    [theme=dark] .colab-df-convert {\n",
              "      background-color: #3B4455;\n",
              "      fill: #D2E3FC;\n",
              "    }\n",
              "\n",
              "    [theme=dark] .colab-df-convert:hover {\n",
              "      background-color: #434B5C;\n",
              "      box-shadow: 0px 1px 3px 1px rgba(0, 0, 0, 0.15);\n",
              "      filter: drop-shadow(0px 1px 2px rgba(0, 0, 0, 0.3));\n",
              "      fill: #FFFFFF;\n",
              "    }\n",
              "  </style>\n",
              "\n",
              "      <script>\n",
              "        const buttonEl =\n",
              "          document.querySelector('#df-a1091201-aebb-4409-ae6d-2530cfb8851c button.colab-df-convert');\n",
              "        buttonEl.style.display =\n",
              "          google.colab.kernel.accessAllowed ? 'block' : 'none';\n",
              "\n",
              "        async function convertToInteractive(key) {\n",
              "          const element = document.querySelector('#df-a1091201-aebb-4409-ae6d-2530cfb8851c');\n",
              "          const dataTable =\n",
              "            await google.colab.kernel.invokeFunction('convertToInteractive',\n",
              "                                                     [key], {});\n",
              "          if (!dataTable) return;\n",
              "\n",
              "          const docLinkHtml = 'Like what you see? Visit the ' +\n",
              "            '<a target=\"_blank\" href=https://colab.research.google.com/notebooks/data_table.ipynb>data table notebook</a>'\n",
              "            + ' to learn more about interactive tables.';\n",
              "          element.innerHTML = '';\n",
              "          dataTable['output_type'] = 'display_data';\n",
              "          await google.colab.output.renderOutput(dataTable, element);\n",
              "          const docLink = document.createElement('div');\n",
              "          docLink.innerHTML = docLinkHtml;\n",
              "          element.appendChild(docLink);\n",
              "        }\n",
              "      </script>\n",
              "    </div>\n",
              "  </div>\n",
              "  "
            ]
          },
          "metadata": {},
          "execution_count": 21
        }
      ]
    },
    {
      "cell_type": "markdown",
      "source": [
        "**Dimensionality Reduction**"
      ],
      "metadata": {
        "id": "8IE7z4MMc5yl"
      }
    },
    {
      "cell_type": "code",
      "source": [
        "# To reduce the dimensionality of the dataset, let's filter out rarely rated movies and rarely rating users.\n",
        "min_ratings = 5\n",
        "\n",
        "# Returns a Series of True/False of movies (identified by 'movieId') that are rated more than 5 times\n",
        "filter_movies = ratings_df['movieId'].value_counts() > min_ratings\n",
        "\n",
        "# Convert the series to a list\n",
        "filter_movies = filter_movies[filter_movies].index.tolist()"
      ],
      "metadata": {
        "id": "A6Ryw3qMdCe1"
      },
      "execution_count": null,
      "outputs": []
    },
    {
      "cell_type": "code",
      "source": [
        "min_user_ratings = 5\n",
        "filter_users = ratings_df['userId'].value_counts() > min_user_ratings\n",
        "filter_users = filter_users[filter_users].index.tolist()"
      ],
      "metadata": {
        "id": "dCMfmUE8eFN5"
      },
      "execution_count": null,
      "outputs": []
    },
    {
      "cell_type": "code",
      "source": [
        "ratings_df_new = ratings_df[(ratings_df['movieId'].isin(filter_movies)) & (ratings_df['userId'].isin(filter_users))]\n",
        "print('The original DataFrame shape is: \\t{}'.format(ratings_df.shape))\n",
        "print('The new ratings Dataframe shape is: \\t{}'.format(ratings_df_new.shape))\n"
      ],
      "metadata": {
        "colab": {
          "base_uri": "https://localhost:8080/"
        },
        "id": "naULFoV8eHKR",
        "outputId": "ffa3cf98-b6d4-4cbc-8dd0-b0e330dfa29e"
      },
      "execution_count": null,
      "outputs": [
        {
          "output_type": "stream",
          "name": "stdout",
          "text": [
            "The original DataFrame shape is: \t(100836, 3)\n",
            "The new ratings Dataframe shape is: \t(88364, 3)\n"
          ]
        }
      ]
    },
    {
      "cell_type": "markdown",
      "source": [
        "**Surprise**"
      ],
      "metadata": {
        "id": "u9pxVybljMBQ"
      }
    },
    {
      "cell_type": "markdown",
      "source": [
        "To load a dataset from a Pandas DataFrame, we need a Reader object. We will use the load_from_df() method and the rating_scale parameter must be specified. The columns must correspond to 'userId', 'movieId' and 'rating' (in that order). Refer to\n",
        "https://surprise.readthedocs.io/en/stable/getting_started.html#load-from-df-example"
      ],
      "metadata": {
        "id": "WFKpTw0ojWD8"
      }
    },
    {
      "cell_type": "code",
      "source": [
        "reader = Reader(rating_scale = (1,5))\n",
        "data = Dataset.load_from_df(ratings_df_new[['userId', 'movieId', 'rating']], reader)"
      ],
      "metadata": {
        "id": "x_QW7j2nj-ko"
      },
      "execution_count": null,
      "outputs": []
    },
    {
      "cell_type": "markdown",
      "source": [
        "We can now use this ratings_df_new dataset and benchmark with the following algorithms. We will use rmse as our accuracy metric for the predictions."
      ],
      "metadata": {
        "id": "CTEmbnMbmyus"
      }
    },
    {
      "cell_type": "markdown",
      "source": [
        "**Basic Algorithms**\n",
        "\n",
        "With the Surprise library, we will benchmark the following algorithms."
      ],
      "metadata": {
        "id": "INo0_NBGJ4SU"
      }
    },
    {
      "cell_type": "markdown",
      "source": [
        "**NormalPredictor**\n",
        "\n",
        "Algorithm predicting a random rating based on the distribution of the training set, which is assumed to be normal."
      ],
      "metadata": {
        "id": "6ZsPPyGXKBL9"
      }
    },
    {
      "cell_type": "markdown",
      "source": [
        "**BaselineOnly**\n",
        "\n",
        "Algorithm predicting the baseline estimate for given user and item."
      ],
      "metadata": {
        "id": "bIu5t1xFKGYS"
      }
    },
    {
      "cell_type": "markdown",
      "source": [
        "**kNN Algorithms**"
      ],
      "metadata": {
        "id": "Q2fbOqsKKOVq"
      }
    },
    {
      "cell_type": "markdown",
      "source": [
        "**KNNBasic**\n",
        "\n",
        "A basic collaborative filtering algorithm."
      ],
      "metadata": {
        "id": "-nKMcb-GKSC5"
      }
    },
    {
      "cell_type": "markdown",
      "source": [
        "**KNNWithMeans**\n",
        "\n",
        "A basic collaborative filtering algorithm, taking into account\n",
        "the mean ratings of each user."
      ],
      "metadata": {
        "id": "hRRtuPtNKac9"
      }
    },
    {
      "cell_type": "markdown",
      "source": [
        "**KNNWithZScore**\n",
        "\n",
        "A basic collaborative filtering algorithm, taking into account the z-score normalization of each user."
      ],
      "metadata": {
        "id": "yuOgAalbKzH5"
      }
    },
    {
      "cell_type": "markdown",
      "source": [
        "**KNNBaseline**\n",
        "\n",
        "A basic collaborative filtering algorithm taking into account a baseline rating."
      ],
      "metadata": {
        "id": "3-MrgjSEK5Gj"
      }
    },
    {
      "cell_type": "markdown",
      "source": [
        "**Matrix Factorization-based Algorithms**"
      ],
      "metadata": {
        "id": "DUC7zVdMLBXb"
      }
    },
    {
      "cell_type": "markdown",
      "source": [
        "**SVD**\n",
        "\n",
        "The famous SVD algorithm, as popularized by Simon Funk during the Netflix Prize. This algorithm is equivalent to the Probabilistic Matrix Factorization: https://proceedings.neurips.cc/paper_files/paper/2007/file/d7322ed717dedf1eb4e6e52a37ea7bcd-Paper.pdf"
      ],
      "metadata": {
        "id": "9AGt_fu5LKgy"
      }
    },
    {
      "cell_type": "markdown",
      "source": [
        "**SVDpp**\n",
        "\n",
        "The SVDpp algorithm, an extension of SVD taking into account implicit ratings."
      ],
      "metadata": {
        "id": "4ttnrCeVLOyc"
      }
    },
    {
      "cell_type": "markdown",
      "source": [
        "**NMF**\n",
        "\n",
        "A collaborative filtering algorithm based on Non-negative Matrix Factorization."
      ],
      "metadata": {
        "id": "AzDdU9aiL8xG"
      }
    },
    {
      "cell_type": "markdown",
      "source": [
        "**Slope One**\n",
        "\n",
        "A simple yet accurate collaborative filtering algorithm. SlopeOne Algorithm: https://arxiv.org/abs/cs/0702144\n",
        "\n"
      ],
      "metadata": {
        "id": "Uv9t6HgfLUCm"
      }
    },
    {
      "cell_type": "markdown",
      "source": [
        "**Co-clustering**\n",
        "\n",
        "A collaborative filtering algorithm based on co-clustering."
      ],
      "metadata": {
        "id": "iLsniz7pLiRk"
      }
    },
    {
      "cell_type": "code",
      "source": [
        "# Iterate over all the abovementioned algorithms\n",
        "# Referred to https://gist.github.com/susanli2016/e0cdcf1bca69a2b144fd8c04f30b522f for inspiration\n",
        "benchmark = []\n",
        "\n",
        "algorithms = [SVD(), SVDpp(), SlopeOne(), NMF(), NormalPredictor(), KNNBaseline(), KNNBasic(), KNNWithMeans(), KNNWithZScore(), BaselineOnly(), CoClustering()]\n",
        "\n",
        "print (\"Attempting: \", str(algorithms), '\\n\\n\\n')\n",
        "\n",
        "for algorithm in algorithms:\n",
        "  print(\"Starting: \", str(algorithm))\n",
        "  # Perform cross-validation\n",
        "  results = cross_validate(algorithm, data, measures=['RMSE'], cv=3, verbose=False)\n",
        "\n",
        "  # Obtain results and append algorithm name\n",
        "  # Getting the average (of results) along the rows\n",
        "  temp = pd.DataFrame.from_dict(results).mean(axis=0)\n",
        "  #temp = temp.append(pd.Series([str(algorithm).split('')[-1]], index=['Algorithm']))\n",
        "  temp = temp.append(pd.Series([str(algorithm).split(' ')[0].split('.')[-1]], index=['Algorithm']))\n",
        "  benchmark.append(temp)\n",
        "  print(\"Done:\", str(algorithm), \"\\n\\n\")\n",
        "\n",
        "print('\\n\\tDONE Iterating through all algorithms\\n')\n",
        "\n",
        "\n"
      ],
      "metadata": {
        "colab": {
          "base_uri": "https://localhost:8080/"
        },
        "id": "5VeKoekCLmpG",
        "outputId": "0fe51c8f-b0b6-499d-dbb2-e3c592024708"
      },
      "execution_count": null,
      "outputs": [
        {
          "output_type": "stream",
          "name": "stdout",
          "text": [
            "Attempting:  [<surprise.prediction_algorithms.matrix_factorization.SVD object at 0x7ff7faa7f8e0>, <surprise.prediction_algorithms.matrix_factorization.SVDpp object at 0x7ff7faa7d600>, <surprise.prediction_algorithms.slope_one.SlopeOne object at 0x7ff7faa7d4e0>, <surprise.prediction_algorithms.matrix_factorization.NMF object at 0x7ff7faa7e290>, <surprise.prediction_algorithms.random_pred.NormalPredictor object at 0x7ff7faa7e230>, <surprise.prediction_algorithms.knns.KNNBaseline object at 0x7ff7faa7e2c0>, <surprise.prediction_algorithms.knns.KNNBasic object at 0x7ff7faa7e830>, <surprise.prediction_algorithms.knns.KNNWithMeans object at 0x7ff7faa7e7a0>, <surprise.prediction_algorithms.knns.KNNWithZScore object at 0x7ff7faa7fc10>, <surprise.prediction_algorithms.baseline_only.BaselineOnly object at 0x7ff7faa7fc70>, <surprise.prediction_algorithms.co_clustering.CoClustering object at 0x7ff7faa7fcd0>] \n",
            "\n",
            "\n",
            "\n",
            "Starting:  <surprise.prediction_algorithms.matrix_factorization.SVD object at 0x7ff7faa7f8e0>\n"
          ]
        },
        {
          "output_type": "stream",
          "name": "stderr",
          "text": [
            "<ipython-input-26-0c4e24fa24fe>:18: FutureWarning:\n",
            "\n",
            "The series.append method is deprecated and will be removed from pandas in a future version. Use pandas.concat instead.\n",
            "\n"
          ]
        },
        {
          "output_type": "stream",
          "name": "stdout",
          "text": [
            "Done: <surprise.prediction_algorithms.matrix_factorization.SVD object at 0x7ff7faa7f8e0> \n",
            "\n",
            "\n",
            "Starting:  <surprise.prediction_algorithms.matrix_factorization.SVDpp object at 0x7ff7faa7d600>\n"
          ]
        },
        {
          "output_type": "stream",
          "name": "stderr",
          "text": [
            "<ipython-input-26-0c4e24fa24fe>:18: FutureWarning:\n",
            "\n",
            "The series.append method is deprecated and will be removed from pandas in a future version. Use pandas.concat instead.\n",
            "\n"
          ]
        },
        {
          "output_type": "stream",
          "name": "stdout",
          "text": [
            "Done: <surprise.prediction_algorithms.matrix_factorization.SVDpp object at 0x7ff7faa7d600> \n",
            "\n",
            "\n",
            "Starting:  <surprise.prediction_algorithms.slope_one.SlopeOne object at 0x7ff7faa7d4e0>\n"
          ]
        },
        {
          "output_type": "stream",
          "name": "stderr",
          "text": [
            "<ipython-input-26-0c4e24fa24fe>:18: FutureWarning:\n",
            "\n",
            "The series.append method is deprecated and will be removed from pandas in a future version. Use pandas.concat instead.\n",
            "\n"
          ]
        },
        {
          "output_type": "stream",
          "name": "stdout",
          "text": [
            "Done: <surprise.prediction_algorithms.slope_one.SlopeOne object at 0x7ff7faa7d4e0> \n",
            "\n",
            "\n",
            "Starting:  <surprise.prediction_algorithms.matrix_factorization.NMF object at 0x7ff7faa7e290>\n"
          ]
        },
        {
          "output_type": "stream",
          "name": "stderr",
          "text": [
            "<ipython-input-26-0c4e24fa24fe>:18: FutureWarning:\n",
            "\n",
            "The series.append method is deprecated and will be removed from pandas in a future version. Use pandas.concat instead.\n",
            "\n"
          ]
        },
        {
          "output_type": "stream",
          "name": "stdout",
          "text": [
            "Done: <surprise.prediction_algorithms.matrix_factorization.NMF object at 0x7ff7faa7e290> \n",
            "\n",
            "\n",
            "Starting:  <surprise.prediction_algorithms.random_pred.NormalPredictor object at 0x7ff7faa7e230>\n"
          ]
        },
        {
          "output_type": "stream",
          "name": "stderr",
          "text": [
            "<ipython-input-26-0c4e24fa24fe>:18: FutureWarning:\n",
            "\n",
            "The series.append method is deprecated and will be removed from pandas in a future version. Use pandas.concat instead.\n",
            "\n"
          ]
        },
        {
          "output_type": "stream",
          "name": "stdout",
          "text": [
            "Done: <surprise.prediction_algorithms.random_pred.NormalPredictor object at 0x7ff7faa7e230> \n",
            "\n",
            "\n",
            "Starting:  <surprise.prediction_algorithms.knns.KNNBaseline object at 0x7ff7faa7e2c0>\n",
            "Estimating biases using als...\n",
            "Computing the msd similarity matrix...\n",
            "Done computing similarity matrix.\n",
            "Estimating biases using als...\n",
            "Computing the msd similarity matrix...\n",
            "Done computing similarity matrix.\n",
            "Estimating biases using als...\n",
            "Computing the msd similarity matrix...\n",
            "Done computing similarity matrix.\n"
          ]
        },
        {
          "output_type": "stream",
          "name": "stderr",
          "text": [
            "<ipython-input-26-0c4e24fa24fe>:18: FutureWarning:\n",
            "\n",
            "The series.append method is deprecated and will be removed from pandas in a future version. Use pandas.concat instead.\n",
            "\n"
          ]
        },
        {
          "output_type": "stream",
          "name": "stdout",
          "text": [
            "Done: <surprise.prediction_algorithms.knns.KNNBaseline object at 0x7ff7faa7e2c0> \n",
            "\n",
            "\n",
            "Starting:  <surprise.prediction_algorithms.knns.KNNBasic object at 0x7ff7faa7e830>\n",
            "Computing the msd similarity matrix...\n",
            "Done computing similarity matrix.\n",
            "Computing the msd similarity matrix...\n",
            "Done computing similarity matrix.\n",
            "Computing the msd similarity matrix...\n",
            "Done computing similarity matrix.\n"
          ]
        },
        {
          "output_type": "stream",
          "name": "stderr",
          "text": [
            "<ipython-input-26-0c4e24fa24fe>:18: FutureWarning:\n",
            "\n",
            "The series.append method is deprecated and will be removed from pandas in a future version. Use pandas.concat instead.\n",
            "\n"
          ]
        },
        {
          "output_type": "stream",
          "name": "stdout",
          "text": [
            "Done: <surprise.prediction_algorithms.knns.KNNBasic object at 0x7ff7faa7e830> \n",
            "\n",
            "\n",
            "Starting:  <surprise.prediction_algorithms.knns.KNNWithMeans object at 0x7ff7faa7e7a0>\n",
            "Computing the msd similarity matrix...\n",
            "Done computing similarity matrix.\n",
            "Computing the msd similarity matrix...\n",
            "Done computing similarity matrix.\n",
            "Computing the msd similarity matrix...\n",
            "Done computing similarity matrix.\n"
          ]
        },
        {
          "output_type": "stream",
          "name": "stderr",
          "text": [
            "<ipython-input-26-0c4e24fa24fe>:18: FutureWarning:\n",
            "\n",
            "The series.append method is deprecated and will be removed from pandas in a future version. Use pandas.concat instead.\n",
            "\n"
          ]
        },
        {
          "output_type": "stream",
          "name": "stdout",
          "text": [
            "Done: <surprise.prediction_algorithms.knns.KNNWithMeans object at 0x7ff7faa7e7a0> \n",
            "\n",
            "\n",
            "Starting:  <surprise.prediction_algorithms.knns.KNNWithZScore object at 0x7ff7faa7fc10>\n",
            "Computing the msd similarity matrix...\n",
            "Done computing similarity matrix.\n",
            "Computing the msd similarity matrix...\n",
            "Done computing similarity matrix.\n",
            "Computing the msd similarity matrix...\n",
            "Done computing similarity matrix.\n"
          ]
        },
        {
          "output_type": "stream",
          "name": "stderr",
          "text": [
            "<ipython-input-26-0c4e24fa24fe>:18: FutureWarning:\n",
            "\n",
            "The series.append method is deprecated and will be removed from pandas in a future version. Use pandas.concat instead.\n",
            "\n"
          ]
        },
        {
          "output_type": "stream",
          "name": "stdout",
          "text": [
            "Done: <surprise.prediction_algorithms.knns.KNNWithZScore object at 0x7ff7faa7fc10> \n",
            "\n",
            "\n",
            "Starting:  <surprise.prediction_algorithms.baseline_only.BaselineOnly object at 0x7ff7faa7fc70>\n",
            "Estimating biases using als...\n",
            "Estimating biases using als...\n",
            "Estimating biases using als...\n"
          ]
        },
        {
          "output_type": "stream",
          "name": "stderr",
          "text": [
            "<ipython-input-26-0c4e24fa24fe>:18: FutureWarning:\n",
            "\n",
            "The series.append method is deprecated and will be removed from pandas in a future version. Use pandas.concat instead.\n",
            "\n"
          ]
        },
        {
          "output_type": "stream",
          "name": "stdout",
          "text": [
            "Done: <surprise.prediction_algorithms.baseline_only.BaselineOnly object at 0x7ff7faa7fc70> \n",
            "\n",
            "\n",
            "Starting:  <surprise.prediction_algorithms.co_clustering.CoClustering object at 0x7ff7faa7fcd0>\n",
            "Done: <surprise.prediction_algorithms.co_clustering.CoClustering object at 0x7ff7faa7fcd0> \n",
            "\n",
            "\n",
            "\n",
            "\tDONE Iterating through all algorithms\n",
            "\n"
          ]
        },
        {
          "output_type": "stream",
          "name": "stderr",
          "text": [
            "<ipython-input-26-0c4e24fa24fe>:18: FutureWarning:\n",
            "\n",
            "The series.append method is deprecated and will be removed from pandas in a future version. Use pandas.concat instead.\n",
            "\n"
          ]
        }
      ]
    },
    {
      "cell_type": "code",
      "source": [
        "surprise_results = pd.DataFrame(benchmark).set_index('Algorithm').sort_values('test_rmse')\n",
        "surprise_results"
      ],
      "metadata": {
        "colab": {
          "base_uri": "https://localhost:8080/",
          "height": 426
        },
        "id": "3TLeMBBlRDg5",
        "outputId": "4e60dcbb-ca00-4a0d-ee52-09a205c4300a"
      },
      "execution_count": null,
      "outputs": [
        {
          "output_type": "execute_result",
          "data": {
            "text/plain": [
              "                 test_rmse   fit_time  test_time\n",
              "Algorithm                                       \n",
              "SVDpp             0.848335  38.790003  13.210362\n",
              "KNNBaseline       0.856768   0.422788   3.101048\n",
              "BaselineOnly      0.861641   0.326457   0.220990\n",
              "SVD               0.864085   1.328274   0.361926\n",
              "KNNWithZScore     0.868274   0.225492   2.810952\n",
              "KNNWithMeans      0.868336   0.138553   2.581426\n",
              "SlopeOne          0.872205   1.411451   9.477628\n",
              "NMF               0.898137   2.200644   0.396599\n",
              "CoClustering      0.921517   2.286504   0.269639\n",
              "KNNBasic          0.922087   0.098928   2.179287\n",
              "NormalPredictor   1.403598   0.126784   0.284611"
            ],
            "text/html": [
              "\n",
              "  <div id=\"df-250fa561-431d-4094-a243-92b7f43c3ad1\">\n",
              "    <div class=\"colab-df-container\">\n",
              "      <div>\n",
              "<style scoped>\n",
              "    .dataframe tbody tr th:only-of-type {\n",
              "        vertical-align: middle;\n",
              "    }\n",
              "\n",
              "    .dataframe tbody tr th {\n",
              "        vertical-align: top;\n",
              "    }\n",
              "\n",
              "    .dataframe thead th {\n",
              "        text-align: right;\n",
              "    }\n",
              "</style>\n",
              "<table border=\"1\" class=\"dataframe\">\n",
              "  <thead>\n",
              "    <tr style=\"text-align: right;\">\n",
              "      <th></th>\n",
              "      <th>test_rmse</th>\n",
              "      <th>fit_time</th>\n",
              "      <th>test_time</th>\n",
              "    </tr>\n",
              "    <tr>\n",
              "      <th>Algorithm</th>\n",
              "      <th></th>\n",
              "      <th></th>\n",
              "      <th></th>\n",
              "    </tr>\n",
              "  </thead>\n",
              "  <tbody>\n",
              "    <tr>\n",
              "      <th>SVDpp</th>\n",
              "      <td>0.848335</td>\n",
              "      <td>38.790003</td>\n",
              "      <td>13.210362</td>\n",
              "    </tr>\n",
              "    <tr>\n",
              "      <th>KNNBaseline</th>\n",
              "      <td>0.856768</td>\n",
              "      <td>0.422788</td>\n",
              "      <td>3.101048</td>\n",
              "    </tr>\n",
              "    <tr>\n",
              "      <th>BaselineOnly</th>\n",
              "      <td>0.861641</td>\n",
              "      <td>0.326457</td>\n",
              "      <td>0.220990</td>\n",
              "    </tr>\n",
              "    <tr>\n",
              "      <th>SVD</th>\n",
              "      <td>0.864085</td>\n",
              "      <td>1.328274</td>\n",
              "      <td>0.361926</td>\n",
              "    </tr>\n",
              "    <tr>\n",
              "      <th>KNNWithZScore</th>\n",
              "      <td>0.868274</td>\n",
              "      <td>0.225492</td>\n",
              "      <td>2.810952</td>\n",
              "    </tr>\n",
              "    <tr>\n",
              "      <th>KNNWithMeans</th>\n",
              "      <td>0.868336</td>\n",
              "      <td>0.138553</td>\n",
              "      <td>2.581426</td>\n",
              "    </tr>\n",
              "    <tr>\n",
              "      <th>SlopeOne</th>\n",
              "      <td>0.872205</td>\n",
              "      <td>1.411451</td>\n",
              "      <td>9.477628</td>\n",
              "    </tr>\n",
              "    <tr>\n",
              "      <th>NMF</th>\n",
              "      <td>0.898137</td>\n",
              "      <td>2.200644</td>\n",
              "      <td>0.396599</td>\n",
              "    </tr>\n",
              "    <tr>\n",
              "      <th>CoClustering</th>\n",
              "      <td>0.921517</td>\n",
              "      <td>2.286504</td>\n",
              "      <td>0.269639</td>\n",
              "    </tr>\n",
              "    <tr>\n",
              "      <th>KNNBasic</th>\n",
              "      <td>0.922087</td>\n",
              "      <td>0.098928</td>\n",
              "      <td>2.179287</td>\n",
              "    </tr>\n",
              "    <tr>\n",
              "      <th>NormalPredictor</th>\n",
              "      <td>1.403598</td>\n",
              "      <td>0.126784</td>\n",
              "      <td>0.284611</td>\n",
              "    </tr>\n",
              "  </tbody>\n",
              "</table>\n",
              "</div>\n",
              "      <button class=\"colab-df-convert\" onclick=\"convertToInteractive('df-250fa561-431d-4094-a243-92b7f43c3ad1')\"\n",
              "              title=\"Convert this dataframe to an interactive table.\"\n",
              "              style=\"display:none;\">\n",
              "        \n",
              "  <svg xmlns=\"http://www.w3.org/2000/svg\" height=\"24px\"viewBox=\"0 0 24 24\"\n",
              "       width=\"24px\">\n",
              "    <path d=\"M0 0h24v24H0V0z\" fill=\"none\"/>\n",
              "    <path d=\"M18.56 5.44l.94 2.06.94-2.06 2.06-.94-2.06-.94-.94-2.06-.94 2.06-2.06.94zm-11 1L8.5 8.5l.94-2.06 2.06-.94-2.06-.94L8.5 2.5l-.94 2.06-2.06.94zm10 10l.94 2.06.94-2.06 2.06-.94-2.06-.94-.94-2.06-.94 2.06-2.06.94z\"/><path d=\"M17.41 7.96l-1.37-1.37c-.4-.4-.92-.59-1.43-.59-.52 0-1.04.2-1.43.59L10.3 9.45l-7.72 7.72c-.78.78-.78 2.05 0 2.83L4 21.41c.39.39.9.59 1.41.59.51 0 1.02-.2 1.41-.59l7.78-7.78 2.81-2.81c.8-.78.8-2.07 0-2.86zM5.41 20L4 18.59l7.72-7.72 1.47 1.35L5.41 20z\"/>\n",
              "  </svg>\n",
              "      </button>\n",
              "      \n",
              "  <style>\n",
              "    .colab-df-container {\n",
              "      display:flex;\n",
              "      flex-wrap:wrap;\n",
              "      gap: 12px;\n",
              "    }\n",
              "\n",
              "    .colab-df-convert {\n",
              "      background-color: #E8F0FE;\n",
              "      border: none;\n",
              "      border-radius: 50%;\n",
              "      cursor: pointer;\n",
              "      display: none;\n",
              "      fill: #1967D2;\n",
              "      height: 32px;\n",
              "      padding: 0 0 0 0;\n",
              "      width: 32px;\n",
              "    }\n",
              "\n",
              "    .colab-df-convert:hover {\n",
              "      background-color: #E2EBFA;\n",
              "      box-shadow: 0px 1px 2px rgba(60, 64, 67, 0.3), 0px 1px 3px 1px rgba(60, 64, 67, 0.15);\n",
              "      fill: #174EA6;\n",
              "    }\n",
              "\n",
              "    [theme=dark] .colab-df-convert {\n",
              "      background-color: #3B4455;\n",
              "      fill: #D2E3FC;\n",
              "    }\n",
              "\n",
              "    [theme=dark] .colab-df-convert:hover {\n",
              "      background-color: #434B5C;\n",
              "      box-shadow: 0px 1px 3px 1px rgba(0, 0, 0, 0.15);\n",
              "      filter: drop-shadow(0px 1px 2px rgba(0, 0, 0, 0.3));\n",
              "      fill: #FFFFFF;\n",
              "    }\n",
              "  </style>\n",
              "\n",
              "      <script>\n",
              "        const buttonEl =\n",
              "          document.querySelector('#df-250fa561-431d-4094-a243-92b7f43c3ad1 button.colab-df-convert');\n",
              "        buttonEl.style.display =\n",
              "          google.colab.kernel.accessAllowed ? 'block' : 'none';\n",
              "\n",
              "        async function convertToInteractive(key) {\n",
              "          const element = document.querySelector('#df-250fa561-431d-4094-a243-92b7f43c3ad1');\n",
              "          const dataTable =\n",
              "            await google.colab.kernel.invokeFunction('convertToInteractive',\n",
              "                                                     [key], {});\n",
              "          if (!dataTable) return;\n",
              "\n",
              "          const docLinkHtml = 'Like what you see? Visit the ' +\n",
              "            '<a target=\"_blank\" href=https://colab.research.google.com/notebooks/data_table.ipynb>data table notebook</a>'\n",
              "            + ' to learn more about interactive tables.';\n",
              "          element.innerHTML = '';\n",
              "          dataTable['output_type'] = 'display_data';\n",
              "          await google.colab.output.renderOutput(dataTable, element);\n",
              "          const docLink = document.createElement('div');\n",
              "          docLink.innerHTML = docLinkHtml;\n",
              "          element.appendChild(docLink);\n",
              "        }\n",
              "      </script>\n",
              "    </div>\n",
              "  </div>\n",
              "  "
            ]
          },
          "metadata": {},
          "execution_count": 27
        }
      ]
    },
    {
      "cell_type": "markdown",
      "source": [
        "SVDpp is performing the best, but the fitting time and testing time are also the longest. We will apply GridSerachCV to SVD instead."
      ],
      "metadata": {
        "id": "RMrn-6qSEo-y"
      }
    },
    {
      "cell_type": "code",
      "source": [
        "# Using a smaller grid for testing\n",
        "param_grid = {\n",
        "    \"n_epochs\": [10, 20],\n",
        "    \"lr_all\" : [0.002, 0.005],\n",
        "    \"reg_all\" : [0.02]\n",
        "}\n",
        "\n",
        "gs = GridSearchCV(SVD, param_grid, measures=[\"rmse\", \"mae\"], refit=True, cv=5)\n",
        "gs.fit(data)\n",
        "training_parameters = gs.best_params[\"rmse\"]\n",
        "\n",
        "print(\"BEST RMSE: \\t\", gs.best_score[\"rmse\"])\n",
        "print(\"BEST MAE: \\t\", gs.best_score[\"mae\"])\n",
        "print(\"BEST params: \\t\", gs.best_params[\"rmse\"])"
      ],
      "metadata": {
        "colab": {
          "base_uri": "https://localhost:8080/"
        },
        "id": "kv8N4cwnFFLW",
        "outputId": "ae90a6d5-053d-4902-8941-be6ea53557ce"
      },
      "execution_count": null,
      "outputs": [
        {
          "output_type": "stream",
          "name": "stdout",
          "text": [
            "BEST RMSE: \t 0.8552387535253126\n",
            "BEST MAE: \t 0.6559434975966589\n",
            "BEST params: \t {'n_epochs': 20, 'lr_all': 0.005, 'reg_all': 0.02}\n"
          ]
        }
      ]
    },
    {
      "cell_type": "code",
      "source": [
        "from datetime import datetime\n",
        "print(training_parameters)\n",
        "reader = Reader(rating_scale=(1,5))\n",
        "\n",
        "print(\"\\n\\n\\t\\t STARTING\\n\\n\")\n",
        "start = datetime.now()\n",
        "\n",
        "print(\"> Loading data...\")\n",
        "data = Dataset.load_from_df(ratings_df_new[['userId', 'movieId', 'rating']], reader)\n",
        "print(\"> OK DONE Loading data\")\n",
        "\n",
        "print(\"> Creating training set...\")\n",
        "trainset = data.build_full_trainset()\n",
        "print(\"> OK DONE Creating training set\")\n",
        "\n",
        "# Getting current year, month, day and time\n",
        "startTraining = datetime.now()\n",
        "print(\"> Training...\")\n",
        "\n",
        "algo = SVD(n_epochs = training_parameters['n_epochs'], lr_all = training_parameters['lr_all'], reg_all = training_parameters['reg_all'])\n",
        "\n",
        "algo.fit(trainset)\n",
        "\n",
        "endTraining = datetime.now()\n",
        "print(\"> OK \\t\\t It took: \", (endTraining - startTraining).seconds, \"seconds to train\")\n",
        "\n",
        "end = datetime.now()\n",
        "print(\"> DONE \\t\\t This whole operation from loading data to creating training set to training took: \", (end-start).seconds, \"seconds\")"
      ],
      "metadata": {
        "colab": {
          "base_uri": "https://localhost:8080/"
        },
        "id": "28I71TLcJFca",
        "outputId": "aff78871-5c13-4112-8804-bad52658f8be"
      },
      "execution_count": null,
      "outputs": [
        {
          "output_type": "stream",
          "name": "stdout",
          "text": [
            "{'n_epochs': 20, 'lr_all': 0.005, 'reg_all': 0.02}\n",
            "\n",
            "\n",
            "\t\t STARTING\n",
            "\n",
            "\n",
            "> Loading data...\n",
            "> OK DONE Loading data\n",
            "> Creating training set...\n",
            "> OK DONE Creating training set\n",
            "> Training...\n",
            "> OK \t\t It took:  3 seconds to train\n",
            "> DONE \t\t This whole operation from loading data to creating training set to training took:  3 seconds\n"
          ]
        }
      ]
    },
    {
      "cell_type": "code",
      "source": [
        "# Saving Trained Model\n",
        "from surprise import dump\n",
        "import os\n",
        "model_filename = \"./model.pickle\"\n",
        "print(\">> Starting dump...\")\n",
        "# Dump algorithm and reload it.\n",
        "file_name = os.path.expanduser(model_filename)\n",
        "dump.dump(file_name, algo=algo)\n",
        "print(\">> Dump done.\")\n",
        "print(model_filename)\n"
      ],
      "metadata": {
        "colab": {
          "base_uri": "https://localhost:8080/"
        },
        "id": "_CVeuzHrQwHk",
        "outputId": "b06e1381-a97f-469e-b2f9-2e793c2e383c"
      },
      "execution_count": null,
      "outputs": [
        {
          "output_type": "stream",
          "name": "stdout",
          "text": [
            ">> Starting dump...\n",
            ">> Dump done.\n",
            "./model.pickle\n"
          ]
        }
      ]
    },
    {
      "cell_type": "code",
      "source": [
        "# Load saved model\n",
        "def load_model(model_filename):\n",
        "  print(\">> Loading dump\")\n",
        "  file_name = os.path.expanduser(model_filename)\n",
        "  _, loaded_model = dump.load(file_name)\n",
        "  print(\">> Loaded dump\")\n",
        "  return loaded_model"
      ],
      "metadata": {
        "id": "SB1On5GRS5lU"
      },
      "execution_count": null,
      "outputs": []
    },
    {
      "cell_type": "code",
      "source": [
        "# Prediction\n",
        "from pprint import pprint as pp\n",
        "model_filename = \"./model.pickle\"\n",
        "def itemRating(user, item):\n",
        "    uid = str(user)\n",
        "    iid = str(item)\n",
        "    loaded_model = load_model(model_filename)\n",
        "    prediction = loaded_model.predict(user, item, verbose=True)\n",
        "    rating = prediction.est\n",
        "    details = prediction.details\n",
        "    uid = prediction.uid\n",
        "    iid = prediction.iid\n",
        "    true = prediction.r_ui\n",
        "    ret = {\n",
        "        'user': user,\n",
        "        'item': item,\n",
        "        'rating': rating,\n",
        "        'details': details,\n",
        "        'uid': uid,\n",
        "        'iid': iid,\n",
        "        'true': true\n",
        "        }\n",
        "    pp (ret)\n",
        "    print ('\\n\\n')\n",
        "    return ret\n",
        "print(itemRating(user = \"610\", item = \"10\"))\n"
      ],
      "metadata": {
        "colab": {
          "base_uri": "https://localhost:8080/"
        },
        "id": "hsnHxSc8Wc5w",
        "outputId": "1fc2fd2f-c6a6-4cf2-f809-eeda53b3fe82"
      },
      "execution_count": null,
      "outputs": [
        {
          "output_type": "stream",
          "name": "stdout",
          "text": [
            ">> Loading dump\n",
            ">> Loaded dump\n",
            "user: 610        item: 10         r_ui = None   est = 3.54   {'was_impossible': False}\n",
            "{'details': {'was_impossible': False},\n",
            " 'iid': '10',\n",
            " 'item': '10',\n",
            " 'rating': 3.543813091304151,\n",
            " 'true': None,\n",
            " 'uid': '610',\n",
            " 'user': '610'}\n",
            "\n",
            "\n",
            "\n",
            "{'user': '610', 'item': '10', 'rating': 3.543813091304151, 'details': {'was_impossible': False}, 'uid': '610', 'iid': '10', 'true': None}\n"
          ]
        }
      ]
    },
    {
      "cell_type": "code",
      "source": [],
      "metadata": {
        "id": "94HV497XXfyU"
      },
      "execution_count": null,
      "outputs": []
    }
  ]
}